{
 "cells": [
  {
   "cell_type": "code",
   "execution_count": null,
   "id": "9b74318d-5a56-4b4e-9ef8-d6de603cd006",
   "metadata": {},
   "outputs": [],
   "source": [
    "# IDE (Integerated development environment)\n",
    "    - jupyter\n",
    "    - pycharm\n",
    "    - vs code\n",
    "    - "
   ]
  }
 ],
 "metadata": {
  "kernelspec": {
   "display_name": "Python 3 (ipykernel)",
   "language": "python",
   "name": "python3"
  },
  "language_info": {
   "codemirror_mode": {
    "name": "ipython",
    "version": 3
   },
   "file_extension": ".py",
   "mimetype": "text/x-python",
   "name": "python",
   "nbconvert_exporter": "python",
   "pygments_lexer": "ipython3",
   "version": "3.13.5"
  }
 },
 "nbformat": 4,
 "nbformat_minor": 5
}
