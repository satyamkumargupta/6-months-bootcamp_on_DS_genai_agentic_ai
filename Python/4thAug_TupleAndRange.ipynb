{
 "cells": [
  {
   "cell_type": "code",
   "execution_count": 1,
   "id": "3c069e48-cb81-4d39-959e-36d71fd0eb32",
   "metadata": {},
   "outputs": [],
   "source": [
    "t=()"
   ]
  },
  {
   "cell_type": "code",
   "execution_count": 2,
   "id": "f7d37cc9-d6e5-43c0-8d39-7a19a810a827",
   "metadata": {},
   "outputs": [
    {
     "data": {
      "text/plain": [
       "tuple"
      ]
     },
     "execution_count": 2,
     "metadata": {},
     "output_type": "execute_result"
    }
   ],
   "source": [
    "type(t)"
   ]
  },
  {
   "cell_type": "code",
   "execution_count": 3,
   "id": "d9259748-fda8-4521-a60b-1852a3ff2fc8",
   "metadata": {},
   "outputs": [],
   "source": [
    "l=[]"
   ]
  },
  {
   "cell_type": "code",
   "execution_count": 4,
   "id": "9a7bc0a4-f365-416d-9188-4e0b18709769",
   "metadata": {},
   "outputs": [
    {
     "data": {
      "text/plain": [
       "list"
      ]
     },
     "execution_count": 4,
     "metadata": {},
     "output_type": "execute_result"
    }
   ],
   "source": [
    "type(l)"
   ]
  },
  {
   "cell_type": "code",
   "execution_count": 5,
   "id": "91b27742-72e6-4235-88a1-48fcc8e7cfca",
   "metadata": {},
   "outputs": [
    {
     "data": {
      "text/plain": [
       "(10, 20, 30)"
      ]
     },
     "execution_count": 5,
     "metadata": {},
     "output_type": "execute_result"
    }
   ],
   "source": [
    "t = (10,20,30)\n",
    "t"
   ]
  },
  {
   "cell_type": "code",
   "execution_count": 6,
   "id": "98314357-b533-40b5-8c5a-503682040509",
   "metadata": {},
   "outputs": [
    {
     "data": {
      "text/plain": [
       "3"
      ]
     },
     "execution_count": 6,
     "metadata": {},
     "output_type": "execute_result"
    }
   ],
   "source": [
    "len(t)"
   ]
  },
  {
   "cell_type": "code",
   "execution_count": 7,
   "id": "774bca4e-6c77-4440-a061-735e652881dc",
   "metadata": {},
   "outputs": [
    {
     "data": {
      "text/plain": [
       "(10, 2.3, 'nit', (1+2j), True, 10, 20)"
      ]
     },
     "execution_count": 7,
     "metadata": {},
     "output_type": "execute_result"
    }
   ],
   "source": [
    "t1 = (10, 2.3, 'nit', 1+2j, True, 10, 20)\n",
    "t1"
   ]
  },
  {
   "cell_type": "code",
   "execution_count": 8,
   "id": "7ed3cf30-49d7-4701-bc07-cdbce1d0ee2d",
   "metadata": {},
   "outputs": [
    {
     "name": "stdout",
     "output_type": "stream",
     "text": [
      "(10, 20, 30)\n",
      "(10, 2.3, 'nit', (1+2j), True, 10, 20)\n"
     ]
    }
   ],
   "source": [
    "print(t)\n",
    "print(t1)"
   ]
  },
  {
   "cell_type": "code",
   "execution_count": 9,
   "id": "69b44678-01c4-4f1e-9971-018bd436851f",
   "metadata": {},
   "outputs": [
    {
     "data": {
      "text/plain": [
       "2"
      ]
     },
     "execution_count": 9,
     "metadata": {},
     "output_type": "execute_result"
    }
   ],
   "source": [
    "t1.count(10)"
   ]
  },
  {
   "cell_type": "code",
   "execution_count": 10,
   "id": "692e27b4-d75d-4123-99bc-d994571601db",
   "metadata": {},
   "outputs": [
    {
     "data": {
      "text/plain": [
       "0"
      ]
     },
     "execution_count": 10,
     "metadata": {},
     "output_type": "execute_result"
    }
   ],
   "source": [
    "t1.count('nit2')"
   ]
  },
  {
   "cell_type": "code",
   "execution_count": 11,
   "id": "e97c0d2e-4e82-4f96-a00e-55b03e9b7250",
   "metadata": {},
   "outputs": [
    {
     "data": {
      "text/plain": [
       "1"
      ]
     },
     "execution_count": 11,
     "metadata": {},
     "output_type": "execute_result"
    }
   ],
   "source": [
    "t1.count(1+2j)"
   ]
  },
  {
   "cell_type": "code",
   "execution_count": 12,
   "id": "d5a7d779-4199-46a3-9e91-018a9acbf7fd",
   "metadata": {},
   "outputs": [
    {
     "data": {
      "text/plain": [
       "(10, 2.3, 'nit', (1+2j), True, 10, 20)"
      ]
     },
     "execution_count": 12,
     "metadata": {},
     "output_type": "execute_result"
    }
   ],
   "source": [
    "t1"
   ]
  },
  {
   "cell_type": "code",
   "execution_count": 13,
   "id": "c2e05255-90c3-4f3f-b217-08583d3069db",
   "metadata": {},
   "outputs": [
    {
     "ename": "TypeError",
     "evalue": "'tuple' object does not support item assignment",
     "output_type": "error",
     "traceback": [
      "\u001b[1;31m---------------------------------------------------------------------------\u001b[0m",
      "\u001b[1;31mTypeError\u001b[0m                                 Traceback (most recent call last)",
      "Cell \u001b[1;32mIn[13], line 1\u001b[0m\n\u001b[1;32m----> 1\u001b[0m t1[\u001b[38;5;241m0\u001b[39m]\u001b[38;5;241m=\u001b[39m\u001b[38;5;241m20\u001b[39m\n",
      "\u001b[1;31mTypeError\u001b[0m: 'tuple' object does not support item assignment"
     ]
    }
   ],
   "source": [
    "t1[0]=20  # it is imutable , we cant update the existing value"
   ]
  },
  {
   "cell_type": "code",
   "execution_count": 14,
   "id": "a21df373-fdba-42ce-8ff1-36df21f1da0b",
   "metadata": {},
   "outputs": [
    {
     "data": {
      "text/plain": [
       "(10, 2.3, 'nit', (1+2j), True, 10, 20)"
      ]
     },
     "execution_count": 14,
     "metadata": {},
     "output_type": "execute_result"
    }
   ],
   "source": [
    "t1"
   ]
  },
  {
   "cell_type": "code",
   "execution_count": 15,
   "id": "f3eb85ae-93f7-4b2d-a6b1-85d9d707ccd1",
   "metadata": {},
   "outputs": [
    {
     "data": {
      "text/plain": [
       "10"
      ]
     },
     "execution_count": 15,
     "metadata": {},
     "output_type": "execute_result"
    }
   ],
   "source": [
    "t1[0]"
   ]
  },
  {
   "cell_type": "code",
   "execution_count": 16,
   "id": "2f839934-9e16-4dca-bd92-aa702d4eb04a",
   "metadata": {},
   "outputs": [
    {
     "data": {
      "text/plain": [
       "(10, 20, 30)"
      ]
     },
     "execution_count": 16,
     "metadata": {},
     "output_type": "execute_result"
    }
   ],
   "source": [
    "t"
   ]
  },
  {
   "cell_type": "code",
   "execution_count": 17,
   "id": "8f7fbc39-1bdd-4d0b-945a-ec4457d1f58e",
   "metadata": {},
   "outputs": [
    {
     "data": {
      "text/plain": [
       "(10, 2.3, 'nit', (1+2j), True, 10, 20)"
      ]
     },
     "execution_count": 17,
     "metadata": {},
     "output_type": "execute_result"
    }
   ],
   "source": [
    "t1"
   ]
  },
  {
   "cell_type": "code",
   "execution_count": 19,
   "id": "f91d28b5-0858-4569-8ae2-5793e6770552",
   "metadata": {},
   "outputs": [
    {
     "ename": "ValueError",
     "evalue": "tuple.index(x): x not in tuple",
     "output_type": "error",
     "traceback": [
      "\u001b[1;31m---------------------------------------------------------------------------\u001b[0m",
      "\u001b[1;31mValueError\u001b[0m                                Traceback (most recent call last)",
      "Cell \u001b[1;32mIn[19], line 1\u001b[0m\n\u001b[1;32m----> 1\u001b[0m t1\u001b[38;5;241m.\u001b[39mindex(\u001b[38;5;241m10\u001b[39m,\u001b[38;5;241m10\u001b[39m)\n",
      "\u001b[1;31mValueError\u001b[0m: tuple.index(x): x not in tuple"
     ]
    }
   ],
   "source": [
    "t1.index(10,10)"
   ]
  },
  {
   "cell_type": "code",
   "execution_count": 21,
   "id": "cbaec1d9-104e-4d78-babf-ddc2a91d5b48",
   "metadata": {},
   "outputs": [
    {
     "data": {
      "text/plain": [
       "0"
      ]
     },
     "execution_count": 21,
     "metadata": {},
     "output_type": "execute_result"
    }
   ],
   "source": [
    "t1.index(10)"
   ]
  },
  {
   "cell_type": "code",
   "execution_count": 22,
   "id": "073f4825-4382-4b52-b9a3-98b9ada34b02",
   "metadata": {},
   "outputs": [
    {
     "data": {
      "text/plain": [
       "(123466, 'cizps67898y', 'dob-3rd mar 1987', 'mob:1234')"
      ]
     },
     "execution_count": 22,
     "metadata": {},
     "output_type": "execute_result"
    }
   ],
   "source": [
    "icici = (123466, 'cizps67898y', 'dob-3rd mar 1987', 'mob:1234')\n",
    "icici"
   ]
  },
  {
   "cell_type": "code",
   "execution_count": 23,
   "id": "7a1df5ec-f6bb-4bd6-a769-f944815edf95",
   "metadata": {},
   "outputs": [
    {
     "ename": "TypeError",
     "evalue": "'tuple' object does not support item assignment",
     "output_type": "error",
     "traceback": [
      "\u001b[1;31m---------------------------------------------------------------------------\u001b[0m",
      "\u001b[1;31mTypeError\u001b[0m                                 Traceback (most recent call last)",
      "Cell \u001b[1;32mIn[23], line 1\u001b[0m\n\u001b[1;32m----> 1\u001b[0m icici[\u001b[38;5;241m0\u001b[39m] \u001b[38;5;241m=\u001b[39m \u001b[38;5;241m987654\u001b[39m\n",
      "\u001b[1;31mTypeError\u001b[0m: 'tuple' object does not support item assignment"
     ]
    }
   ],
   "source": [
    "icici[0] = 987654"
   ]
  },
  {
   "cell_type": "code",
   "execution_count": 24,
   "id": "5f15805d-a1e9-42a7-8411-47cb8c19651e",
   "metadata": {},
   "outputs": [
    {
     "data": {
      "text/plain": [
       "(10, 20, 30)"
      ]
     },
     "execution_count": 24,
     "metadata": {},
     "output_type": "execute_result"
    }
   ],
   "source": [
    "t"
   ]
  },
  {
   "cell_type": "code",
   "execution_count": 26,
   "id": "e5b8915f-49ba-48b8-a64e-460ad8d8b732",
   "metadata": {},
   "outputs": [
    {
     "data": {
      "text/plain": [
       "(10, 20, 30, 10, 20, 30, 10, 20, 30)"
      ]
     },
     "execution_count": 26,
     "metadata": {},
     "output_type": "execute_result"
    }
   ],
   "source": [
    "t2 = t*3\n",
    "t2"
   ]
  },
  {
   "cell_type": "code",
   "execution_count": 28,
   "id": "8e24f7dc-0df8-4f00-8147-7a2e6a37c724",
   "metadata": {},
   "outputs": [
    {
     "data": {
      "text/plain": [
       "(10, 2.3, 'nit', (1+2j), True, 10, 20)"
      ]
     },
     "execution_count": 28,
     "metadata": {},
     "output_type": "execute_result"
    }
   ],
   "source": [
    "t1"
   ]
  },
  {
   "cell_type": "code",
   "execution_count": 27,
   "id": "4faaf22e-aa32-4642-af42-67424692c4be",
   "metadata": {},
   "outputs": [
    {
     "data": {
      "text/plain": [
       "(2.3, 'nit', (1+2j), True, 10)"
      ]
     },
     "execution_count": 27,
     "metadata": {},
     "output_type": "execute_result"
    }
   ],
   "source": [
    "t1[1:6]"
   ]
  },
  {
   "cell_type": "code",
   "execution_count": 29,
   "id": "62f716c0-6845-4ede-b7da-7724e617deb9",
   "metadata": {},
   "outputs": [
    {
     "data": {
      "text/plain": [
       "(10, 20, 30, 10, 20, 30, 10, 20, 30)"
      ]
     },
     "execution_count": 29,
     "metadata": {},
     "output_type": "execute_result"
    }
   ],
   "source": [
    "t2"
   ]
  },
  {
   "cell_type": "code",
   "execution_count": 30,
   "id": "8cf26647-0814-4c1d-83fc-ce2a1638031f",
   "metadata": {},
   "outputs": [
    {
     "data": {
      "text/plain": [
       "(20, 20)"
      ]
     },
     "execution_count": 30,
     "metadata": {},
     "output_type": "execute_result"
    }
   ],
   "source": [
    "t2[1:6:3] # 20,20 # 1 - start index , ends with 6th index by step 3rd steps"
   ]
  },
  {
   "cell_type": "code",
   "execution_count": 31,
   "id": "214f2582-925b-42f5-9f45-acc08051984d",
   "metadata": {},
   "outputs": [
    {
     "data": {
      "text/plain": [
       "(20,)"
      ]
     },
     "execution_count": 31,
     "metadata": {},
     "output_type": "execute_result"
    }
   ],
   "source": [
    "t2[1:6:5]"
   ]
  },
  {
   "cell_type": "code",
   "execution_count": 32,
   "id": "d37c385d-2dfc-44c0-bfb4-ddaeb96007e2",
   "metadata": {},
   "outputs": [
    {
     "data": {
      "text/plain": [
       "(10, 2.3, 'nit', (1+2j), True, 10, 20)"
      ]
     },
     "execution_count": 32,
     "metadata": {},
     "output_type": "execute_result"
    }
   ],
   "source": [
    "t1"
   ]
  },
  {
   "cell_type": "code",
   "execution_count": 33,
   "id": "252f6186-850e-47f1-8c02-4850b5649fec",
   "metadata": {},
   "outputs": [
    {
     "data": {
      "text/plain": [
       "(10, 2.3, 'nit', (1+2j), True, 10, 20)"
      ]
     },
     "execution_count": 33,
     "metadata": {},
     "output_type": "execute_result"
    }
   ],
   "source": [
    "t1[:] # print all the values"
   ]
  },
  {
   "cell_type": "code",
   "execution_count": 35,
   "id": "9537a785-55d0-4318-9fbd-62844c5b05fc",
   "metadata": {},
   "outputs": [
    {
     "data": {
      "text/plain": [
       "(30, 20, 10, 30, 20, 10, 30, 20, 10)"
      ]
     },
     "execution_count": 35,
     "metadata": {},
     "output_type": "execute_result"
    }
   ],
   "source": [
    "t2[::-1] #backward"
   ]
  },
  {
   "cell_type": "code",
   "execution_count": 36,
   "id": "591aefc8-97c9-4fa7-90d7-b371c171b15a",
   "metadata": {},
   "outputs": [
    {
     "data": {
      "text/plain": [
       "(10, 20, 30, 10, 20, 30, 10, 20, 30)"
      ]
     },
     "execution_count": 36,
     "metadata": {},
     "output_type": "execute_result"
    }
   ],
   "source": [
    "t2"
   ]
  },
  {
   "cell_type": "code",
   "execution_count": 37,
   "id": "929c549d-6511-456a-9d02-d88123778c13",
   "metadata": {},
   "outputs": [
    {
     "data": {
      "text/plain": [
       "(30, 10, 20, 30, 10)"
      ]
     },
     "execution_count": 37,
     "metadata": {},
     "output_type": "execute_result"
    }
   ],
   "source": [
    "t2[::-2] # 2 steps"
   ]
  },
  {
   "cell_type": "markdown",
   "id": "55ab47b8-9aff-45f1-ae35-ac90619d31de",
   "metadata": {},
   "source": [
    "[::-2] is a slice notation in Python.\n",
    "The first colon : indicates that we are slicing the entire sequence.\n",
    "The second colon : with -2 specifies a step of -2. This means the slice will iterate backward through the sequence, selecting every other element. "
   ]
  },
  {
   "cell_type": "code",
   "execution_count": 38,
   "id": "d25896f5-7ebc-4dbd-8fb5-a0044cb79f6c",
   "metadata": {},
   "outputs": [
    {
     "data": {
      "text/plain": [
       "(30, 30, 30)"
      ]
     },
     "execution_count": 38,
     "metadata": {},
     "output_type": "execute_result"
    }
   ],
   "source": [
    "t2[::-3] # - : backward"
   ]
  },
  {
   "cell_type": "code",
   "execution_count": 39,
   "id": "ce09bd38-bc77-443e-86a9-c959f703077b",
   "metadata": {},
   "outputs": [
    {
     "data": {
      "text/plain": [
       "(10, 20, 30, 10, 20, 30, 10, 20, 30)"
      ]
     },
     "execution_count": 39,
     "metadata": {},
     "output_type": "execute_result"
    }
   ],
   "source": [
    "t2[::1]"
   ]
  },
  {
   "cell_type": "code",
   "execution_count": 40,
   "id": "de47a79f-6ff7-4dbe-b53c-55b8a8682458",
   "metadata": {},
   "outputs": [
    {
     "data": {
      "text/plain": [
       "(10, 30, 20, 10, 30)"
      ]
     },
     "execution_count": 40,
     "metadata": {},
     "output_type": "execute_result"
    }
   ],
   "source": [
    "t2[::2]"
   ]
  },
  {
   "cell_type": "code",
   "execution_count": 41,
   "id": "0cfeda0b-b8eb-4a0f-8f3c-6f05950214e9",
   "metadata": {},
   "outputs": [
    {
     "data": {
      "text/plain": [
       "(1, 2, 3, 4, 5, 6, 7, 8)"
      ]
     },
     "execution_count": 41,
     "metadata": {},
     "output_type": "execute_result"
    }
   ],
   "source": [
    "t = (1,2,3,4,5,6,7,8) \n",
    "t"
   ]
  },
  {
   "cell_type": "code",
   "execution_count": 43,
   "id": "a8950280-906c-4adb-98bd-c2ded6d55ed2",
   "metadata": {},
   "outputs": [
    {
     "data": {
      "text/plain": [
       "(4, 5, 6, 7, 8)"
      ]
     },
     "execution_count": 43,
     "metadata": {},
     "output_type": "execute_result"
    }
   ],
   "source": [
    "t[3:]"
   ]
  },
  {
   "cell_type": "code",
   "execution_count": 44,
   "id": "edc1e9dc-34a8-4ada-85a7-2ecd3e710d32",
   "metadata": {},
   "outputs": [
    {
     "data": {
      "text/plain": [
       "(4, 5, 6, 7)"
      ]
     },
     "execution_count": 44,
     "metadata": {},
     "output_type": "execute_result"
    }
   ],
   "source": [
    "t[3:-1]"
   ]
  },
  {
   "cell_type": "code",
   "execution_count": 45,
   "id": "d2f17de6-0db9-4ba2-a15b-4617eac358b4",
   "metadata": {},
   "outputs": [
    {
     "data": {
      "text/plain": [
       "(4, 5, 6)"
      ]
     },
     "execution_count": 45,
     "metadata": {},
     "output_type": "execute_result"
    }
   ],
   "source": [
    "t[3:-2]"
   ]
  },
  {
   "cell_type": "code",
   "execution_count": 46,
   "id": "076d4d73-69ca-4eef-92ed-34847cf88539",
   "metadata": {},
   "outputs": [
    {
     "data": {
      "text/plain": [
       "(1, 2, 3, 4, 5, 6, 7, 8)"
      ]
     },
     "execution_count": 46,
     "metadata": {},
     "output_type": "execute_result"
    }
   ],
   "source": [
    "t"
   ]
  },
  {
   "cell_type": "code",
   "execution_count": 47,
   "id": "608c10f1-8767-43a2-a10e-310b764719fe",
   "metadata": {},
   "outputs": [
    {
     "data": {
      "text/plain": [
       "(2, 3, 4)"
      ]
     },
     "execution_count": 47,
     "metadata": {},
     "output_type": "execute_result"
    }
   ],
   "source": [
    "t[1:4]"
   ]
  },
  {
   "cell_type": "code",
   "execution_count": 48,
   "id": "f87cb856-ab14-403f-a23f-ea1aac88edc9",
   "metadata": {},
   "outputs": [
    {
     "data": {
      "text/plain": [
       "(2, 3, 4, 5, 6, 7, 8)"
      ]
     },
     "execution_count": 48,
     "metadata": {},
     "output_type": "execute_result"
    }
   ],
   "source": [
    "t[1:]"
   ]
  },
  {
   "cell_type": "code",
   "execution_count": 49,
   "id": "941a8827-c979-45b2-a82d-e0a532ca3032",
   "metadata": {},
   "outputs": [
    {
     "data": {
      "text/plain": [
       "(1, 2, 3, 4, 5)"
      ]
     },
     "execution_count": 49,
     "metadata": {},
     "output_type": "execute_result"
    }
   ],
   "source": [
    "t[:5]"
   ]
  },
  {
   "cell_type": "code",
   "execution_count": 50,
   "id": "86827f7e-e964-4d70-bf6d-44bf9a4e7082",
   "metadata": {},
   "outputs": [
    {
     "data": {
      "text/plain": [
       "(1, 2, 3, 4, 5, 6, 7, 8)"
      ]
     },
     "execution_count": 50,
     "metadata": {},
     "output_type": "execute_result"
    }
   ],
   "source": [
    "t"
   ]
  },
  {
   "cell_type": "code",
   "execution_count": 51,
   "id": "3864a6c9-798d-4bc0-b4cc-304a9bfb9df8",
   "metadata": {},
   "outputs": [
    {
     "data": {
      "text/plain": [
       "(2, 5)"
      ]
     },
     "execution_count": 51,
     "metadata": {},
     "output_type": "execute_result"
    }
   ],
   "source": [
    "t[1:7:3]"
   ]
  },
  {
   "cell_type": "code",
   "execution_count": 52,
   "id": "241e8245-94db-4c35-bc4e-823c93800cf3",
   "metadata": {},
   "outputs": [
    {
     "data": {
      "text/plain": [
       "(1, 2, 3, 4, 5, 6, 7, 8)"
      ]
     },
     "execution_count": 52,
     "metadata": {},
     "output_type": "execute_result"
    }
   ],
   "source": [
    "t[::1]"
   ]
  },
  {
   "cell_type": "code",
   "execution_count": 53,
   "id": "a79bf209-4efc-4e50-bf36-142f5e85a7b9",
   "metadata": {},
   "outputs": [
    {
     "data": {
      "text/plain": [
       "(8, 7, 6, 5, 4, 3, 2, 1)"
      ]
     },
     "execution_count": 53,
     "metadata": {},
     "output_type": "execute_result"
    }
   ],
   "source": [
    "t[::-1]"
   ]
  },
  {
   "cell_type": "code",
   "execution_count": 54,
   "id": "1cf8aeab-55d2-4b55-acc9-e0ca9a47d9a4",
   "metadata": {},
   "outputs": [
    {
     "data": {
      "text/plain": [
       "(8, 5, 2)"
      ]
     },
     "execution_count": 54,
     "metadata": {},
     "output_type": "execute_result"
    }
   ],
   "source": [
    "t[::-3]"
   ]
  },
  {
   "cell_type": "code",
   "execution_count": 55,
   "id": "2dde5694-a8f4-42f4-a3c5-56803538f809",
   "metadata": {},
   "outputs": [
    {
     "ename": "TypeError",
     "evalue": "'tuple' object doesn't support item deletion",
     "output_type": "error",
     "traceback": [
      "\u001b[1;31m---------------------------------------------------------------------------\u001b[0m",
      "\u001b[1;31mTypeError\u001b[0m                                 Traceback (most recent call last)",
      "Cell \u001b[1;32mIn[55], line 1\u001b[0m\n\u001b[1;32m----> 1\u001b[0m \u001b[38;5;28;01mdel\u001b[39;00m t[\u001b[38;5;241m0\u001b[39m]\n",
      "\u001b[1;31mTypeError\u001b[0m: 'tuple' object doesn't support item deletion"
     ]
    }
   ],
   "source": [
    "del t[0]"
   ]
  },
  {
   "cell_type": "code",
   "execution_count": 56,
   "id": "a77e33f6-14af-4c90-8abb-fa088423b6e0",
   "metadata": {},
   "outputs": [],
   "source": [
    "del t # entire tuple deletion possible"
   ]
  },
  {
   "cell_type": "code",
   "execution_count": 57,
   "id": "464f44b7-88c4-448d-8562-1faf8bc3f947",
   "metadata": {},
   "outputs": [
    {
     "ename": "NameError",
     "evalue": "name 't' is not defined",
     "output_type": "error",
     "traceback": [
      "\u001b[1;31m---------------------------------------------------------------------------\u001b[0m",
      "\u001b[1;31mNameError\u001b[0m                                 Traceback (most recent call last)",
      "Cell \u001b[1;32mIn[57], line 1\u001b[0m\n\u001b[1;32m----> 1\u001b[0m \u001b[38;5;28mlen\u001b[39m(t)\n",
      "\u001b[1;31mNameError\u001b[0m: name 't' is not defined"
     ]
    }
   ],
   "source": [
    "len(t)"
   ]
  },
  {
   "cell_type": "code",
   "execution_count": 58,
   "id": "f9ef8a4f-89d0-4ba5-bdb5-48512bb2352f",
   "metadata": {},
   "outputs": [],
   "source": [
    "t = (1, 2, 3, 4, 5, 6, 7, 8)"
   ]
  },
  {
   "cell_type": "code",
   "execution_count": 59,
   "id": "786e7f97-0081-4816-9eb1-46fc880951cc",
   "metadata": {},
   "outputs": [
    {
     "data": {
      "text/plain": [
       "8"
      ]
     },
     "execution_count": 59,
     "metadata": {},
     "output_type": "execute_result"
    }
   ],
   "source": [
    "len(t)"
   ]
  },
  {
   "cell_type": "code",
   "execution_count": 60,
   "id": "e10e8686-319b-4c5b-97ee-4be021724d3f",
   "metadata": {},
   "outputs": [],
   "source": [
    "del t # entire tuple deletion possible"
   ]
  },
  {
   "cell_type": "code",
   "execution_count": 61,
   "id": "bbe085d7-ef0b-4f84-965d-21e6d6344c27",
   "metadata": {},
   "outputs": [
    {
     "ename": "NameError",
     "evalue": "name 't' is not defined",
     "output_type": "error",
     "traceback": [
      "\u001b[1;31m---------------------------------------------------------------------------\u001b[0m",
      "\u001b[1;31mNameError\u001b[0m                                 Traceback (most recent call last)",
      "Cell \u001b[1;32mIn[61], line 1\u001b[0m\n\u001b[1;32m----> 1\u001b[0m \u001b[38;5;28mlen\u001b[39m(t)\n",
      "\u001b[1;31mNameError\u001b[0m: name 't' is not defined"
     ]
    }
   ],
   "source": [
    "len(t)"
   ]
  },
  {
   "cell_type": "code",
   "execution_count": 62,
   "id": "c1dc919a-ff4b-4e1f-9950-b8bb7229f791",
   "metadata": {},
   "outputs": [],
   "source": [
    "t = (1, 2, 3, 4, 5, 6, 7, 8)"
   ]
  },
  {
   "cell_type": "markdown",
   "id": "ddcfc943-e8a8-4e00-9a24-4f161af84ec3",
   "metadata": {},
   "source": [
    "**Loop through the tuple**"
   ]
  },
  {
   "cell_type": "code",
   "execution_count": 63,
   "id": "f15d18ae-7923-43e3-b5d0-c5debcc29ce0",
   "metadata": {},
   "outputs": [
    {
     "name": "stdout",
     "output_type": "stream",
     "text": [
      "1\n",
      "2\n",
      "3\n",
      "4\n",
      "5\n",
      "6\n",
      "7\n",
      "8\n"
     ]
    }
   ],
   "source": [
    "for i in t:\n",
    "    print(i)"
   ]
  },
  {
   "cell_type": "code",
   "execution_count": 64,
   "id": "fab412c4-9b62-4ed0-a650-69cbe5908d68",
   "metadata": {},
   "outputs": [
    {
     "name": "stdout",
     "output_type": "stream",
     "text": [
      "1 2 3 4 5 6 7 8 "
     ]
    }
   ],
   "source": [
    "for i in t:\n",
    "    print(i,end=' ')"
   ]
  },
  {
   "cell_type": "code",
   "execution_count": 66,
   "id": "6c15d1f2-aac0-47a5-9567-fef035a4dc23",
   "metadata": {},
   "outputs": [
    {
     "name": "stdout",
     "output_type": "stream",
     "text": [
      "(0, 10)\n",
      "(1, 2.3)\n",
      "(2, 'nit')\n",
      "(3, (1+2j))\n",
      "(4, True)\n",
      "(5, 10)\n",
      "(6, 20)\n"
     ]
    }
   ],
   "source": [
    "for i in enumerate(t1):  #open cv-real use cases- enumerate functions\n",
    "    print(i)"
   ]
  },
  {
   "cell_type": "markdown",
   "id": "e12b0ff8-b2a0-47fb-a23e-9526ce145131",
   "metadata": {},
   "source": [
    "**Tuple Membership**"
   ]
  },
  {
   "cell_type": "code",
   "execution_count": 68,
   "id": "784ffe2c-2a5d-4db8-9c3c-63d5469a626a",
   "metadata": {},
   "outputs": [
    {
     "data": {
      "text/plain": [
       "(1, 2, 3, 4, 5, 6, 7, 8)"
      ]
     },
     "execution_count": 68,
     "metadata": {},
     "output_type": "execute_result"
    }
   ],
   "source": [
    "t"
   ]
  },
  {
   "cell_type": "code",
   "execution_count": 69,
   "id": "6a1a3395-cae7-4b64-8373-9ea2ba72a819",
   "metadata": {},
   "outputs": [
    {
     "data": {
      "text/plain": [
       "True"
      ]
     },
     "execution_count": 69,
     "metadata": {},
     "output_type": "execute_result"
    }
   ],
   "source": [
    "1 in t # check 1 is exist in tuple"
   ]
  },
  {
   "cell_type": "code",
   "execution_count": 70,
   "id": "79222d3e-2455-4901-953f-d676e991c4d0",
   "metadata": {},
   "outputs": [
    {
     "data": {
      "text/plain": [
       "False"
      ]
     },
     "execution_count": 70,
     "metadata": {},
     "output_type": "execute_result"
    }
   ],
   "source": [
    "'One' in t"
   ]
  },
  {
   "cell_type": "code",
   "execution_count": 73,
   "id": "df457299-a3c6-4980-861f-e858e702d5b4",
   "metadata": {},
   "outputs": [
    {
     "name": "stdout",
     "output_type": "stream",
     "text": [
      "1 number is present in the tuple\n"
     ]
    }
   ],
   "source": [
    "if 1 in t:\n",
    "    print('1 number is present in the tuple')\n",
    "else:\n",
    "    print('1 number is not present in the tuple')"
   ]
  },
  {
   "cell_type": "code",
   "execution_count": 74,
   "id": "123691ae-457b-4f53-8857-4d8dca0a0be4",
   "metadata": {},
   "outputs": [
    {
     "name": "stdout",
     "output_type": "stream",
     "text": [
      "11 number is not present in the tuple\n"
     ]
    }
   ],
   "source": [
    "if 11 in t:\n",
    "    print('11 number is present in the tuple')\n",
    "else:\n",
    "    print('11 number is not present in the tuple')"
   ]
  },
  {
   "cell_type": "code",
   "execution_count": 75,
   "id": "43598d7c-8338-427f-93d6-ec81defdfb1d",
   "metadata": {},
   "outputs": [],
   "source": [
    "mytuple = ('one','two','three','four','five','six','seven','eight')"
   ]
  },
  {
   "cell_type": "code",
   "execution_count": 77,
   "id": "12f65212-44cf-467f-b6c8-260ae387f8b5",
   "metadata": {},
   "outputs": [
    {
     "name": "stdout",
     "output_type": "stream",
     "text": [
      "Three is present in the tuple\n"
     ]
    }
   ],
   "source": [
    "if 'three' in mytuple:\n",
    "    print('Three is present in the tuple')\n",
    "else:\n",
    "    print('Three is not present in the tuple')"
   ]
  },
  {
   "cell_type": "markdown",
   "id": "1b847daa-469e-4c3b-bdb0-e3198dd94d45",
   "metadata": {},
   "source": [
    "**Index Positioning**"
   ]
  },
  {
   "cell_type": "code",
   "execution_count": 78,
   "id": "c739195d-08d4-49a2-8757-e6b8051f7104",
   "metadata": {},
   "outputs": [
    {
     "data": {
      "text/plain": [
       "2"
      ]
     },
     "execution_count": 78,
     "metadata": {},
     "output_type": "execute_result"
    }
   ],
   "source": [
    "mytuple.index('three')"
   ]
  },
  {
   "cell_type": "code",
   "execution_count": 79,
   "id": "ee9661a0-f5ec-4cba-be0f-fe58fd946c07",
   "metadata": {},
   "outputs": [
    {
     "ename": "ValueError",
     "evalue": "tuple.index(x): x not in tuple",
     "output_type": "error",
     "traceback": [
      "\u001b[1;31m---------------------------------------------------------------------------\u001b[0m",
      "\u001b[1;31mValueError\u001b[0m                                Traceback (most recent call last)",
      "Cell \u001b[1;32mIn[79], line 1\u001b[0m\n\u001b[1;32m----> 1\u001b[0m mytuple\u001b[38;5;241m.\u001b[39mindex(\u001b[38;5;124m'\u001b[39m\u001b[38;5;124mtwelve\u001b[39m\u001b[38;5;124m'\u001b[39m)\n",
      "\u001b[1;31mValueError\u001b[0m: tuple.index(x): x not in tuple"
     ]
    }
   ],
   "source": [
    "mytuple.index('twelve')"
   ]
  },
  {
   "cell_type": "markdown",
   "id": "8821a960-7aaa-4bee-b4cf-ee1628d93b50",
   "metadata": {},
   "source": [
    "**Sorting**"
   ]
  },
  {
   "cell_type": "code",
   "execution_count": 80,
   "id": "7f63312d-eabe-4d30-8df0-ba6f8183a68c",
   "metadata": {},
   "outputs": [],
   "source": [
    "mytuple2 = (43,89,6,2,76,5) # ascending order"
   ]
  },
  {
   "cell_type": "code",
   "execution_count": 81,
   "id": "c0b92efb-70af-46fb-86fe-9ec97515dbb2",
   "metadata": {},
   "outputs": [
    {
     "data": {
      "text/plain": [
       "[2, 5, 6, 43, 76, 89]"
      ]
     },
     "execution_count": 81,
     "metadata": {},
     "output_type": "execute_result"
    }
   ],
   "source": [
    "sorted(mytuple2)"
   ]
  },
  {
   "cell_type": "code",
   "execution_count": 82,
   "id": "ebc4fa63-c6f4-4c06-9722-02e0fcfa0f7a",
   "metadata": {},
   "outputs": [
    {
     "data": {
      "text/plain": [
       "[89, 76, 43, 6, 5, 2]"
      ]
     },
     "execution_count": 82,
     "metadata": {},
     "output_type": "execute_result"
    }
   ],
   "source": [
    "sorted(mytuple2,reverse='True') # descending order"
   ]
  },
  {
   "cell_type": "markdown",
   "id": "68425bd6-6e66-41df-be36-762b7d78ea2a",
   "metadata": {},
   "source": [
    "**range()**"
   ]
  },
  {
   "cell_type": "code",
   "execution_count": 83,
   "id": "867bc641-9050-4321-bbc5-7e32c2229e47",
   "metadata": {},
   "outputs": [
    {
     "ename": "TypeError",
     "evalue": "range expected at least 1 argument, got 0",
     "output_type": "error",
     "traceback": [
      "\u001b[1;31m---------------------------------------------------------------------------\u001b[0m",
      "\u001b[1;31mTypeError\u001b[0m                                 Traceback (most recent call last)",
      "Cell \u001b[1;32mIn[83], line 1\u001b[0m\n\u001b[1;32m----> 1\u001b[0m \u001b[38;5;28mrange\u001b[39m()\n",
      "\u001b[1;31mTypeError\u001b[0m: range expected at least 1 argument, got 0"
     ]
    }
   ],
   "source": [
    "range()"
   ]
  },
  {
   "cell_type": "code",
   "execution_count": 84,
   "id": "e6187ecc-97df-465b-9ea4-6aba226bc5bf",
   "metadata": {},
   "outputs": [
    {
     "data": {
      "text/plain": [
       "range(0, 5)"
      ]
     },
     "execution_count": 84,
     "metadata": {},
     "output_type": "execute_result"
    }
   ],
   "source": [
    "range(5)"
   ]
  },
  {
   "cell_type": "code",
   "execution_count": 85,
   "id": "19e4d7d6-9afd-4a67-93bc-1568b4d036c2",
   "metadata": {},
   "outputs": [
    {
     "name": "stdout",
     "output_type": "stream",
     "text": [
      "range(0, 5)\n"
     ]
    }
   ],
   "source": [
    "print(range(5))"
   ]
  },
  {
   "cell_type": "code",
   "execution_count": 86,
   "id": "b0605c0f-5671-45a4-8da7-f2b9f2578bd6",
   "metadata": {},
   "outputs": [
    {
     "data": {
      "text/plain": [
       "[0, 1, 2, 3, 4]"
      ]
     },
     "execution_count": 86,
     "metadata": {},
     "output_type": "execute_result"
    }
   ],
   "source": [
    "list(range(5))"
   ]
  },
  {
   "cell_type": "code",
   "execution_count": 88,
   "id": "73d7bcb2-fab8-463c-a7dc-e6068614ad6f",
   "metadata": {},
   "outputs": [
    {
     "data": {
      "text/plain": [
       "[]"
      ]
     },
     "execution_count": 88,
     "metadata": {},
     "output_type": "execute_result"
    }
   ],
   "source": [
    "list(range(10, 5))"
   ]
  },
  {
   "cell_type": "code",
   "execution_count": 89,
   "id": "41d4a6cc-a638-49e3-b614-ff736006efca",
   "metadata": {},
   "outputs": [
    {
     "data": {
      "text/plain": [
       "[10, 11, 12, 13, 14, 15, 16, 17, 18, 19]"
      ]
     },
     "execution_count": 89,
     "metadata": {},
     "output_type": "execute_result"
    }
   ],
   "source": [
    "list(range(10, 20))"
   ]
  },
  {
   "cell_type": "code",
   "execution_count": 90,
   "id": "4ef2d90f-ea26-49c4-92b6-8f7e389f4709",
   "metadata": {},
   "outputs": [
    {
     "data": {
      "text/plain": [
       "range(10, 50, 5)"
      ]
     },
     "execution_count": 90,
     "metadata": {},
     "output_type": "execute_result"
    }
   ],
   "source": [
    "range(10,50,5)"
   ]
  },
  {
   "cell_type": "code",
   "execution_count": 92,
   "id": "a3f78213-cfb2-437f-a7b4-3618a76a28b5",
   "metadata": {},
   "outputs": [
    {
     "data": {
      "text/plain": [
       "[10, 15, 20, 25, 30, 35, 40, 45]"
      ]
     },
     "execution_count": 92,
     "metadata": {},
     "output_type": "execute_result"
    }
   ],
   "source": [
    "list(range(10, 50, 5))"
   ]
  },
  {
   "cell_type": "code",
   "execution_count": 93,
   "id": "5e6c8723-de54-43b8-9f8f-a2323d0338e3",
   "metadata": {},
   "outputs": [
    {
     "ename": "TypeError",
     "evalue": "range expected at most 3 arguments, got 4",
     "output_type": "error",
     "traceback": [
      "\u001b[1;31m---------------------------------------------------------------------------\u001b[0m",
      "\u001b[1;31mTypeError\u001b[0m                                 Traceback (most recent call last)",
      "Cell \u001b[1;32mIn[93], line 1\u001b[0m\n\u001b[1;32m----> 1\u001b[0m \u001b[38;5;28mrange\u001b[39m(\u001b[38;5;241m10\u001b[39m,\u001b[38;5;241m50\u001b[39m,\u001b[38;5;241m5\u001b[39m,\u001b[38;5;241m1\u001b[39m)\n",
      "\u001b[1;31mTypeError\u001b[0m: range expected at most 3 arguments, got 4"
     ]
    }
   ],
   "source": [
    "range(10,50,5,1)"
   ]
  },
  {
   "cell_type": "markdown",
   "id": "70062ec0-af28-40da-873e-521437e00144",
   "metadata": {},
   "source": [
    "Program: odd number,table,aptterns"
   ]
  },
  {
   "cell_type": "code",
   "execution_count": 96,
   "id": "e9d52dab-0be1-452c-8201-27d6f737cd00",
   "metadata": {},
   "outputs": [
    {
     "name": "stdout",
     "output_type": "stream",
     "text": [
      "10 is even number\n",
      "11 is odd number\n",
      "12 is even number\n",
      "13 is odd number\n",
      "14 is even number\n",
      "15 is odd number\n",
      "16 is even number\n",
      "17 is odd number\n",
      "18 is even number\n",
      "19 is odd number\n"
     ]
    }
   ],
   "source": [
    "for i in list(range(10,20)):\n",
    "    if i%2==0:\n",
    "        print(f'{i} is even number')\n",
    "    else:\n",
    "        print(f'{i} is odd number')"
   ]
  },
  {
   "cell_type": "code",
   "execution_count": 100,
   "id": "c5454d9a-9c3b-4081-aeca-75259a9ff253",
   "metadata": {},
   "outputs": [
    {
     "name": "stdout",
     "output_type": "stream",
     "text": [
      "5 * 1 = 5\n",
      "5 * 2 = 10\n",
      "5 * 3 = 15\n",
      "5 * 4 = 20\n",
      "5 * 5 = 25\n",
      "5 * 6 = 30\n",
      "5 * 7 = 35\n",
      "5 * 8 = 40\n",
      "5 * 9 = 45\n",
      "5 * 10 = 50\n"
     ]
    }
   ],
   "source": [
    "# write the table of 5\n",
    "for i in list(range(1,11)):\n",
    "    print(f'5 * {i} = {5*i}')"
   ]
  },
  {
   "cell_type": "code",
   "execution_count": 104,
   "id": "8e89b015-2a92-4462-b0cb-9d4c92c0a120",
   "metadata": {},
   "outputs": [
    {
     "name": "stdin",
     "output_type": "stream",
     "text": [
      "Enter the number to print the table  21\n"
     ]
    },
    {
     "name": "stdout",
     "output_type": "stream",
     "text": [
      "21 * 1 = 21\n",
      "21 * 2 = 42\n",
      "21 * 3 = 63\n",
      "21 * 4 = 84\n",
      "21 * 5 = 105\n",
      "21 * 6 = 126\n",
      "21 * 7 = 147\n",
      "21 * 8 = 168\n",
      "21 * 9 = 189\n",
      "21 * 10 = 210\n"
     ]
    }
   ],
   "source": [
    "# Given a number userTable, we need to print its table.\n",
    "userTable = eval(input('Enter the number to print the table '))\n",
    "for i in list(range(1,11)):\n",
    "    print(f'{userTable} * {i} = {userTable*i}')"
   ]
  },
  {
   "cell_type": "markdown",
   "id": "37eaf3f4-29d0-4cdc-bee2-5e93788f9c69",
   "metadata": {},
   "source": [
    "# patterns\n",
    "*\n",
    "**\n",
    "***\n",
    "****\n",
    "*****"
   ]
  },
  {
   "cell_type": "code",
   "execution_count": 133,
   "id": "703579a7-7808-4f76-ae57-1cd4a2d642c4",
   "metadata": {},
   "outputs": [],
   "source": [
    "patterns = ('*')"
   ]
  },
  {
   "cell_type": "code",
   "execution_count": 134,
   "id": "dac499a6-e6cc-4840-b336-4f0df86bd81c",
   "metadata": {},
   "outputs": [
    {
     "name": "stdout",
     "output_type": "stream",
     "text": [
      "***\n"
     ]
    }
   ],
   "source": [
    "print(patterns*3)"
   ]
  },
  {
   "cell_type": "code",
   "execution_count": 135,
   "id": "b8169733-5c3a-440c-af6b-9f3c101d078b",
   "metadata": {},
   "outputs": [
    {
     "name": "stdout",
     "output_type": "stream",
     "text": [
      "*\n",
      "**\n",
      "***\n",
      "****\n",
      "*****\n"
     ]
    }
   ],
   "source": [
    "for i in list(range(1,6)):\n",
    "    print(patterns*i)"
   ]
  },
  {
   "cell_type": "code",
   "execution_count": 136,
   "id": "b5b54262-4a5c-482d-80da-64dce31713fa",
   "metadata": {},
   "outputs": [],
   "source": [
    "patterns = ('₹')"
   ]
  },
  {
   "cell_type": "code",
   "execution_count": 137,
   "id": "b5a4be37-c296-449f-af66-42b774bd668e",
   "metadata": {},
   "outputs": [
    {
     "name": "stdout",
     "output_type": "stream",
     "text": [
      "₹₹₹₹₹\n",
      "₹₹₹₹\n",
      "₹₹₹\n",
      "₹₹\n",
      "₹\n"
     ]
    }
   ],
   "source": [
    "myrange = list(range(1,6))\n",
    "reverse = myrange[::-1]\n",
    "\n",
    "for i in reverse:\n",
    "    print(patterns*i)"
   ]
  },
  {
   "cell_type": "code",
   "execution_count": 139,
   "id": "f7543401-f395-4beb-984e-44db1d7426d0",
   "metadata": {},
   "outputs": [
    {
     "name": "stdout",
     "output_type": "stream",
     "text": [
      "₹₹₹₹₹\n",
      "₹₹₹₹\n",
      "₹₹₹\n",
      "₹₹\n",
      "₹\n"
     ]
    }
   ],
   "source": [
    "myrange = list(range(1,6))\n",
    "reverse = sorted(myrange,reverse=True)\n",
    "\n",
    "for i in reverse:\n",
    "    print(patterns*i)"
   ]
  },
  {
   "cell_type": "code",
   "execution_count": null,
   "id": "be4fee57-b6e5-4abb-8299-61da5cead6e1",
   "metadata": {},
   "outputs": [],
   "source": []
  }
 ],
 "metadata": {
  "kernelspec": {
   "display_name": "Python 3 (ipykernel)",
   "language": "python",
   "name": "python3"
  },
  "language_info": {
   "codemirror_mode": {
    "name": "ipython",
    "version": 3
   },
   "file_extension": ".py",
   "mimetype": "text/x-python",
   "name": "python",
   "nbconvert_exporter": "python",
   "pygments_lexer": "ipython3",
   "version": "3.13.5"
  }
 },
 "nbformat": 4,
 "nbformat_minor": 5
}
