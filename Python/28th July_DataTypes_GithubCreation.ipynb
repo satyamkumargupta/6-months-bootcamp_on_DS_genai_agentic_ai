{
 "cells": [
  {
   "cell_type": "markdown",
   "id": "eb5c99e7-08b9-48cb-a2f8-6e357739f9be",
   "metadata": {},
   "source": [
    "# 28th July - python data type"
   ]
  },
  {
   "cell_type": "code",
   "execution_count": 2,
   "id": "8a7d1d82-f1fe-4481-a65e-cecb9b3119d6",
   "metadata": {},
   "outputs": [
    {
     "data": {
      "text/plain": [
       "45"
      ]
     },
     "execution_count": 2,
     "metadata": {},
     "output_type": "execute_result"
    }
   ],
   "source": [
    "i=45\n",
    "i"
   ]
  },
  {
   "cell_type": "markdown",
   "id": "b754eb06-8728-4bcf-925b-fa0fdcd00136",
   "metadata": {},
   "source": [
    "**difference between variables and functions**"
   ]
  },
  {
   "cell_type": "markdown",
   "id": "333ee453-1125-4d73-bd07-f611e241c9d0",
   "metadata": {},
   "source": [
    "Function -- function ends with ();\n",
    "variable -- doesnot ends declare\n",
    "\n",
    "german_brand_cars='bmw' # variable\n",
    "German_Brand_Cars(): # functions\n",
    "German_Brand_Cars('audi'): # functions with 1 parameter and type is string\n",
    "\n",
    "argument = parameter\n",
    "variable = identifier"
   ]
  },
  {
   "cell_type": "code",
   "execution_count": 3,
   "id": "9e44a0ef-1418-49d9-9482-280a47eb6795",
   "metadata": {},
   "outputs": [
    {
     "ename": "TypeError",
     "evalue": "type() takes 1 or 3 arguments",
     "output_type": "error",
     "traceback": [
      "\u001b[1;31m---------------------------------------------------------------------------\u001b[0m",
      "\u001b[1;31mTypeError\u001b[0m                                 Traceback (most recent call last)",
      "Cell \u001b[1;32mIn[3], line 1\u001b[0m\n\u001b[1;32m----> 1\u001b[0m \u001b[38;5;28mtype\u001b[39m()\n",
      "\u001b[1;31mTypeError\u001b[0m: type() takes 1 or 3 arguments"
     ]
    }
   ],
   "source": [
    "type()"
   ]
  },
  {
   "cell_type": "code",
   "execution_count": 4,
   "id": "01e86655-79fb-43b0-988d-eb4e353734eb",
   "metadata": {},
   "outputs": [
    {
     "data": {
      "text/plain": [
       "int"
      ]
     },
     "execution_count": 4,
     "metadata": {},
     "output_type": "execute_result"
    }
   ],
   "source": [
    "type(i)"
   ]
  },
  {
   "cell_type": "code",
   "execution_count": 8,
   "id": "239260f2-5dbe-4e5a-b8db-ef8665b17fdc",
   "metadata": {},
   "outputs": [
    {
     "data": {
      "text/plain": [
       "(45, 50)"
      ]
     },
     "execution_count": 8,
     "metadata": {},
     "output_type": "execute_result"
    }
   ],
   "source": [
    "i = 45, 50\n",
    "i"
   ]
  },
  {
   "cell_type": "code",
   "execution_count": 6,
   "id": "900a5f07-b2b0-4a8a-b983-b7733be8b182",
   "metadata": {},
   "outputs": [
    {
     "data": {
      "text/plain": [
       "tuple"
      ]
     },
     "execution_count": 6,
     "metadata": {},
     "output_type": "execute_result"
    }
   ],
   "source": [
    "type(i)"
   ]
  },
  {
   "cell_type": "code",
   "execution_count": 9,
   "id": "b54b7448-b9ec-415c-a72a-329b5f34f6b6",
   "metadata": {},
   "outputs": [
    {
     "data": {
      "text/plain": [
       "105.45"
      ]
     },
     "execution_count": 9,
     "metadata": {},
     "output_type": "execute_result"
    }
   ],
   "source": [
    "f = 105.45\n",
    "f"
   ]
  },
  {
   "cell_type": "code",
   "execution_count": 10,
   "id": "48cb32fb-c348-4c79-8a36-7a671799cca9",
   "metadata": {},
   "outputs": [
    {
     "data": {
      "text/plain": [
       "float"
      ]
     },
     "execution_count": 10,
     "metadata": {},
     "output_type": "execute_result"
    }
   ],
   "source": [
    "type(f)"
   ]
  },
  {
   "cell_type": "code",
   "execution_count": 11,
   "id": "51d83516-86ad-4d3e-ab63-30a55c2150df",
   "metadata": {},
   "outputs": [
    {
     "data": {
      "text/plain": [
       "99000.1"
      ]
     },
     "execution_count": 11,
     "metadata": {},
     "output_type": "execute_result"
    }
   ],
   "source": [
    "f_gold_price = 99000.10\n",
    "f_gold_price"
   ]
  },
  {
   "cell_type": "markdown",
   "id": "5b27430e-3cf1-4c04-b6f5-c552db535471",
   "metadata": {},
   "source": [
    "- int = value without decimal\n",
    "- float = value with decimal\n",
    "      - In float: only e letter is allowed"
   ]
  },
  {
   "cell_type": "code",
   "execution_count": 12,
   "id": "0b2b67f9-e687-4464-a08a-8124f4a6fb12",
   "metadata": {},
   "outputs": [
    {
     "ename": "SyntaxError",
     "evalue": "invalid decimal literal (1577346659.py, line 1)",
     "output_type": "error",
     "traceback": [
      "\u001b[1;36m  Cell \u001b[1;32mIn[12], line 1\u001b[1;36m\u001b[0m\n\u001b[1;33m    f1 = 1a0\u001b[0m\n\u001b[1;37m         ^\u001b[0m\n\u001b[1;31mSyntaxError\u001b[0m\u001b[1;31m:\u001b[0m invalid decimal literal\n"
     ]
    }
   ],
   "source": [
    "f1 = 1a0"
   ]
  },
  {
   "cell_type": "code",
   "execution_count": 15,
   "id": "dea236bf-496b-4f4b-b541-e7bc3ed45734",
   "metadata": {},
   "outputs": [
    {
     "ename": "NameError",
     "evalue": "name 'e0' is not defined",
     "output_type": "error",
     "traceback": [
      "\u001b[1;31m---------------------------------------------------------------------------\u001b[0m",
      "\u001b[1;31mNameError\u001b[0m                                 Traceback (most recent call last)",
      "Cell \u001b[1;32mIn[15], line 1\u001b[0m\n\u001b[1;32m----> 1\u001b[0m f1 \u001b[38;5;241m=\u001b[39m e0\n\u001b[0;32m      2\u001b[0m f1\n",
      "\u001b[1;31mNameError\u001b[0m: name 'e0' is not defined"
     ]
    }
   ],
   "source": [
    "f1 = e0\n",
    "f1"
   ]
  },
  {
   "cell_type": "code",
   "execution_count": 16,
   "id": "2563e678-2afa-4110-8a3c-aa3cd842673d",
   "metadata": {},
   "outputs": [
    {
     "data": {
      "text/plain": [
       "1.0"
      ]
     },
     "execution_count": 16,
     "metadata": {},
     "output_type": "execute_result"
    }
   ],
   "source": [
    "f1 = 1e0\n",
    "f1"
   ]
  },
  {
   "cell_type": "code",
   "execution_count": 17,
   "id": "e8067331-1b95-4d5d-9161-e5d0d7cb438e",
   "metadata": {},
   "outputs": [
    {
     "data": {
      "text/plain": [
       "float"
      ]
     },
     "execution_count": 17,
     "metadata": {},
     "output_type": "execute_result"
    }
   ],
   "source": [
    "type(f1)"
   ]
  },
  {
   "cell_type": "code",
   "execution_count": 18,
   "id": "6f816102-b2dd-4f18-a42f-27bdc51b0cc1",
   "metadata": {},
   "outputs": [
    {
     "data": {
      "text/plain": [
       "20.0"
      ]
     },
     "execution_count": 18,
     "metadata": {},
     "output_type": "execute_result"
    }
   ],
   "source": [
    "f2 = 2e1 # 2*10.0\n",
    "f2"
   ]
  },
  {
   "cell_type": "markdown",
   "id": "b104ecac-291e-4eca-9f99-c7269b046ad5",
   "metadata": {},
   "source": [
    "- e0 - 1.0\n",
    "- e1 - 10.0\n",
    "- e2 - 100.0\n",
    "- e3 - 1000.0"
   ]
  },
  {
   "cell_type": "code",
   "execution_count": 19,
   "id": "e2e0a174-cc38-458b-bc65-c1a11e56aa61",
   "metadata": {},
   "outputs": [
    {
     "data": {
      "text/plain": [
       "240.0"
      ]
     },
     "execution_count": 19,
     "metadata": {},
     "output_type": "execute_result"
    }
   ],
   "source": [
    "f3 = 2.4e2\n",
    "f3"
   ]
  },
  {
   "cell_type": "code",
   "execution_count": 21,
   "id": "a045f876-2339-4af8-9c3e-3f9824257de4",
   "metadata": {},
   "outputs": [
    {
     "data": {
      "text/plain": [
       "2500.0"
      ]
     },
     "execution_count": 21,
     "metadata": {},
     "output_type": "execute_result"
    }
   ],
   "source": [
    "f4 = 2.5E3\n",
    "f4"
   ]
  },
  {
   "cell_type": "code",
   "execution_count": 22,
   "id": "e92025c5-b744-44ac-a2e2-21f55c279c65",
   "metadata": {},
   "outputs": [
    {
     "ename": "SyntaxError",
     "evalue": "invalid decimal literal (3297815863.py, line 1)",
     "output_type": "error",
     "traceback": [
      "\u001b[1;36m  Cell \u001b[1;32mIn[22], line 1\u001b[1;36m\u001b[0m\n\u001b[1;33m    f5 = 2.5b1\u001b[0m\n\u001b[1;37m           ^\u001b[0m\n\u001b[1;31mSyntaxError\u001b[0m\u001b[1;31m:\u001b[0m invalid decimal literal\n"
     ]
    }
   ],
   "source": [
    "f5 = 2.5b1\n",
    "f5"
   ]
  },
  {
   "cell_type": "markdown",
   "id": "4d104bb7-1556-413a-a8a1-e4a2914cc0a7",
   "metadata": {
    "jp-MarkdownHeadingCollapsed": true
   },
   "source": [
    "# bool:"
   ]
  },
  {
   "cell_type": "code",
   "execution_count": 24,
   "id": "d4db37ad-f6f3-4b5a-8c3d-3eaeec20f3c8",
   "metadata": {},
   "outputs": [
    {
     "ename": "NameError",
     "evalue": "name 'true' is not defined",
     "output_type": "error",
     "traceback": [
      "\u001b[1;31m---------------------------------------------------------------------------\u001b[0m",
      "\u001b[1;31mNameError\u001b[0m                                 Traceback (most recent call last)",
      "Cell \u001b[1;32mIn[24], line 1\u001b[0m\n\u001b[1;32m----> 1\u001b[0m true\n",
      "\u001b[1;31mNameError\u001b[0m: name 'true' is not defined"
     ]
    }
   ],
   "source": [
    "true"
   ]
  },
  {
   "cell_type": "code",
   "execution_count": 25,
   "id": "461567a0-cec4-4291-ba27-06cf0463422e",
   "metadata": {},
   "outputs": [
    {
     "data": {
      "text/plain": [
       "True"
      ]
     },
     "execution_count": 25,
     "metadata": {},
     "output_type": "execute_result"
    }
   ],
   "source": [
    "True"
   ]
  },
  {
   "cell_type": "code",
   "execution_count": 26,
   "id": "883696e6-0e6c-4620-b9a6-6ca1662e0bd2",
   "metadata": {},
   "outputs": [
    {
     "data": {
      "text/plain": [
       "['False',\n",
       " 'None',\n",
       " 'True',\n",
       " 'and',\n",
       " 'as',\n",
       " 'assert',\n",
       " 'async',\n",
       " 'await',\n",
       " 'break',\n",
       " 'class',\n",
       " 'continue',\n",
       " 'def',\n",
       " 'del',\n",
       " 'elif',\n",
       " 'else',\n",
       " 'except',\n",
       " 'finally',\n",
       " 'for',\n",
       " 'from',\n",
       " 'global',\n",
       " 'if',\n",
       " 'import',\n",
       " 'in',\n",
       " 'is',\n",
       " 'lambda',\n",
       " 'nonlocal',\n",
       " 'not',\n",
       " 'or',\n",
       " 'pass',\n",
       " 'raise',\n",
       " 'return',\n",
       " 'try',\n",
       " 'while',\n",
       " 'with',\n",
       " 'yield']"
      ]
     },
     "execution_count": 26,
     "metadata": {},
     "output_type": "execute_result"
    }
   ],
   "source": [
    "import keyword\n",
    "keyword.kwlist"
   ]
  },
  {
   "cell_type": "code",
   "execution_count": 27,
   "id": "bc22ee64-3e23-48b6-bd04-2c93ae4a2a67",
   "metadata": {},
   "outputs": [
    {
     "data": {
      "text/plain": [
       "35"
      ]
     },
     "execution_count": 27,
     "metadata": {},
     "output_type": "execute_result"
    }
   ],
   "source": [
    "len(keyword.kwlist)"
   ]
  },
  {
   "cell_type": "code",
   "execution_count": 28,
   "id": "d9b8087e-6033-44bf-b18e-61e852d8bf84",
   "metadata": {},
   "outputs": [
    {
     "ename": "NameError",
     "evalue": "name 'TRUE' is not defined",
     "output_type": "error",
     "traceback": [
      "\u001b[1;31m---------------------------------------------------------------------------\u001b[0m",
      "\u001b[1;31mNameError\u001b[0m                                 Traceback (most recent call last)",
      "Cell \u001b[1;32mIn[28], line 1\u001b[0m\n\u001b[1;32m----> 1\u001b[0m TRUE\n",
      "\u001b[1;31mNameError\u001b[0m: name 'TRUE' is not defined"
     ]
    }
   ],
   "source": [
    "TRUE"
   ]
  },
  {
   "cell_type": "code",
   "execution_count": 29,
   "id": "484da4c7-f979-48be-92f8-0399aa2f087f",
   "metadata": {},
   "outputs": [
    {
     "data": {
      "text/plain": [
       "True"
      ]
     },
     "execution_count": 29,
     "metadata": {},
     "output_type": "execute_result"
    }
   ],
   "source": [
    "True"
   ]
  },
  {
   "cell_type": "code",
   "execution_count": 30,
   "id": "2a9bbf78-4ce7-41ee-92d5-65dec2daa787",
   "metadata": {},
   "outputs": [
    {
     "ename": "NameError",
     "evalue": "name 'false' is not defined",
     "output_type": "error",
     "traceback": [
      "\u001b[1;31m---------------------------------------------------------------------------\u001b[0m",
      "\u001b[1;31mNameError\u001b[0m                                 Traceback (most recent call last)",
      "Cell \u001b[1;32mIn[30], line 1\u001b[0m\n\u001b[1;32m----> 1\u001b[0m false\n",
      "\u001b[1;31mNameError\u001b[0m: name 'false' is not defined"
     ]
    }
   ],
   "source": [
    "false"
   ]
  },
  {
   "cell_type": "code",
   "execution_count": 31,
   "id": "c0e297cd-5cbf-42fa-8172-2d3a1ef2d61a",
   "metadata": {},
   "outputs": [
    {
     "data": {
      "text/plain": [
       "False"
      ]
     },
     "execution_count": 31,
     "metadata": {},
     "output_type": "execute_result"
    }
   ],
   "source": [
    "False"
   ]
  },
  {
   "cell_type": "markdown",
   "id": "4f252806-5e92-444f-bca0-8d7bf6d7dd58",
   "metadata": {},
   "source": [
    "True - 1;\n",
    "False - 0"
   ]
  },
  {
   "cell_type": "code",
   "execution_count": 32,
   "id": "18fbaff3-1ba5-4c9a-8c45-03d240cc2e13",
   "metadata": {},
   "outputs": [
    {
     "data": {
      "text/plain": [
       "1"
      ]
     },
     "execution_count": 32,
     "metadata": {},
     "output_type": "execute_result"
    }
   ],
   "source": [
    "True+False"
   ]
  },
  {
   "cell_type": "code",
   "execution_count": 33,
   "id": "4833259d-d6e6-4ba4-9912-60242c727240",
   "metadata": {},
   "outputs": [
    {
     "ename": "NameError",
     "evalue": "name 'fALSE' is not defined",
     "output_type": "error",
     "traceback": [
      "\u001b[1;31m---------------------------------------------------------------------------\u001b[0m",
      "\u001b[1;31mNameError\u001b[0m                                 Traceback (most recent call last)",
      "Cell \u001b[1;32mIn[33], line 1\u001b[0m\n\u001b[1;32m----> 1\u001b[0m \u001b[38;5;28;01mTrue\u001b[39;00m \u001b[38;5;241m+\u001b[39m fALSE\n",
      "\u001b[1;31mNameError\u001b[0m: name 'fALSE' is not defined"
     ]
    }
   ],
   "source": [
    "True + fALSE"
   ]
  },
  {
   "cell_type": "code",
   "execution_count": 34,
   "id": "e0f511fb-06d8-404d-b84e-e951c280b5ca",
   "metadata": {},
   "outputs": [
    {
     "data": {
      "text/plain": [
       "0"
      ]
     },
     "execution_count": 34,
     "metadata": {},
     "output_type": "execute_result"
    }
   ],
   "source": [
    "True * False"
   ]
  },
  {
   "cell_type": "code",
   "execution_count": 35,
   "id": "6609d575-23df-4296-a090-293413428c1d",
   "metadata": {},
   "outputs": [
    {
     "ename": "ZeroDivisionError",
     "evalue": "division by zero",
     "output_type": "error",
     "traceback": [
      "\u001b[1;31m---------------------------------------------------------------------------\u001b[0m",
      "\u001b[1;31mZeroDivisionError\u001b[0m                         Traceback (most recent call last)",
      "Cell \u001b[1;32mIn[35], line 1\u001b[0m\n\u001b[1;32m----> 1\u001b[0m \u001b[38;5;28;01mTrue\u001b[39;00m \u001b[38;5;241m/\u001b[39m \u001b[38;5;28;01mFalse\u001b[39;00m\n",
      "\u001b[1;31mZeroDivisionError\u001b[0m: division by zero"
     ]
    }
   ],
   "source": [
    "True / False"
   ]
  },
  {
   "cell_type": "code",
   "execution_count": 36,
   "id": "16a30211-a528-4fd3-b148-59ab62712263",
   "metadata": {},
   "outputs": [
    {
     "data": {
      "text/plain": [
       "0.0"
      ]
     },
     "execution_count": 36,
     "metadata": {},
     "output_type": "execute_result"
    }
   ],
   "source": [
    "False / True # / - float type"
   ]
  },
  {
   "cell_type": "code",
   "execution_count": 37,
   "id": "7aec1bba-781a-4ebf-8130-e091487bc3d9",
   "metadata": {},
   "outputs": [
    {
     "data": {
      "text/plain": [
       "0"
      ]
     },
     "execution_count": 37,
     "metadata": {},
     "output_type": "execute_result"
    }
   ],
   "source": [
    "False // True # // - int type"
   ]
  },
  {
   "cell_type": "markdown",
   "id": "7a277143-4055-4411-919a-7532a685acf3",
   "metadata": {},
   "source": [
    "Python error classifies into 3 parts\n",
    "    - Compile time error\n",
    "    - logical error\n",
    "    - runtime error --> exception handling --> try,except,finally"
   ]
  },
  {
   "cell_type": "markdown",
   "id": "ee3e2d1f-42f1-4255-89c4-16e57c7a02c3",
   "metadata": {},
   "source": [
    "**Github creation**\n",
    "- login\n",
    "- create repository(folders)"
   ]
  },
  {
   "cell_type": "markdown",
   "id": "6874ef1e-ce4d-411e-9754-4261951f110d",
   "metadata": {},
   "source": []
  },
  {
   "cell_type": "code",
   "execution_count": 38,
   "id": "0d420196-5def-480b-9b2a-936f52800b81",
   "metadata": {},
   "outputs": [
    {
     "data": {
      "text/plain": [
       "12"
      ]
     },
     "execution_count": 38,
     "metadata": {},
     "output_type": "execute_result"
    }
   ],
   "source": [
    "int(12.3) # type casting"
   ]
  },
  {
   "cell_type": "code",
   "execution_count": 39,
   "id": "f45270fa-41fc-4bcb-b8cd-cb3cdf7930b3",
   "metadata": {},
   "outputs": [
    {
     "data": {
      "text/plain": [
       "1"
      ]
     },
     "execution_count": 39,
     "metadata": {},
     "output_type": "execute_result"
    }
   ],
   "source": [
    "int(True)"
   ]
  },
  {
   "cell_type": "code",
   "execution_count": 40,
   "id": "f4951cdb-af52-4d63-80aa-cb6195e22066",
   "metadata": {},
   "outputs": [
    {
     "data": {
      "text/plain": [
       "0"
      ]
     },
     "execution_count": 40,
     "metadata": {},
     "output_type": "execute_result"
    }
   ],
   "source": [
    "int(False)"
   ]
  },
  {
   "cell_type": "code",
   "execution_count": 41,
   "id": "c039f6fb-2985-42d5-9007-6fc36d17af54",
   "metadata": {},
   "outputs": [
    {
     "data": {
      "text/plain": [
       "1"
      ]
     },
     "execution_count": 41,
     "metadata": {},
     "output_type": "execute_result"
    }
   ],
   "source": [
    "int(\"1\")"
   ]
  },
  {
   "cell_type": "code",
   "execution_count": 42,
   "id": "67824b34-8662-43b2-a617-38ac656d8141",
   "metadata": {},
   "outputs": [
    {
     "data": {
      "text/plain": [
       "int"
      ]
     },
     "execution_count": 42,
     "metadata": {},
     "output_type": "execute_result"
    }
   ],
   "source": [
    "type(int(\"1\"))"
   ]
  },
  {
   "cell_type": "code",
   "execution_count": 43,
   "id": "bea9f9b9-6d7b-4149-ba9a-7668c89cc153",
   "metadata": {},
   "outputs": [
    {
     "ename": "NameError",
     "evalue": "name 'np' is not defined",
     "output_type": "error",
     "traceback": [
      "\u001b[1;31m---------------------------------------------------------------------------\u001b[0m",
      "\u001b[1;31mNameError\u001b[0m                                 Traceback (most recent call last)",
      "Cell \u001b[1;32mIn[43], line 1\u001b[0m\n\u001b[1;32m----> 1\u001b[0m np\u001b[38;5;241m.\u001b[39mnan\n",
      "\u001b[1;31mNameError\u001b[0m: name 'np' is not defined"
     ]
    }
   ],
   "source": [
    "np.nan"
   ]
  },
  {
   "cell_type": "code",
   "execution_count": 44,
   "id": "ae2863eb-1721-444b-808f-a9e538cba21e",
   "metadata": {},
   "outputs": [],
   "source": [
    "import numpy as np"
   ]
  },
  {
   "cell_type": "code",
   "execution_count": 45,
   "id": "d2c6a338-985c-45e4-af27-671bc319f06d",
   "metadata": {},
   "outputs": [
    {
     "data": {
      "text/plain": [
       "nan"
      ]
     },
     "execution_count": 45,
     "metadata": {},
     "output_type": "execute_result"
    }
   ],
   "source": [
    "np.nan"
   ]
  },
  {
   "cell_type": "code",
   "execution_count": 46,
   "id": "5dee90c0-af0d-4fa9-a548-a0c738eb8cd4",
   "metadata": {},
   "outputs": [
    {
     "data": {
      "text/plain": [
       "float"
      ]
     },
     "execution_count": 46,
     "metadata": {},
     "output_type": "execute_result"
    }
   ],
   "source": [
    "type(np.nan) # np.nan represents \"Not a Number\", a special floating-point value "
   ]
  },
  {
   "cell_type": "markdown",
   "id": "c01740e1-df27-4a58-aae7-4dd2b0b432da",
   "metadata": {},
   "source": [
    "**Complex DataTypes**"
   ]
  },
  {
   "cell_type": "code",
   "execution_count": null,
   "id": "57304ed4-7b3f-40e9-a6d3-7621df46fd2c",
   "metadata": {},
   "outputs": [],
   "source": []
  }
 ],
 "metadata": {
  "kernelspec": {
   "display_name": "Python 3 (ipykernel)",
   "language": "python",
   "name": "python3"
  },
  "language_info": {
   "codemirror_mode": {
    "name": "ipython",
    "version": 3
   },
   "file_extension": ".py",
   "mimetype": "text/x-python",
   "name": "python",
   "nbconvert_exporter": "python",
   "pygments_lexer": "ipython3",
   "version": "3.13.5"
  }
 },
 "nbformat": 4,
 "nbformat_minor": 5
}
