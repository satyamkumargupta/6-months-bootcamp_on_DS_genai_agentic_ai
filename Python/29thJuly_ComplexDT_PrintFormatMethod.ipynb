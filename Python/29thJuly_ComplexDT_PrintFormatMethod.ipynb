{
 "cells": [
  {
   "cell_type": "markdown",
   "id": "37f37b83-ef67-4a94-8798-89bb716c3b17",
   "metadata": {},
   "source": [
    "**29th July**"
   ]
  },
  {
   "cell_type": "markdown",
   "id": "e279831e-018f-4d2e-8ebc-2e302b965fcd",
   "metadata": {},
   "source": [
    "Github copilot |\n",
    "Cursor AI (Agents)"
   ]
  },
  {
   "cell_type": "markdown",
   "id": "84911ad4-61d6-476a-a9ad-f8b9afd1f85d",
   "metadata": {},
   "source": [
    "**Complex DataType**\n",
    "- 1+2j (only j is allowed)\n",
    "- 1 is real value\n",
    "- 2 is imaginery value\n",
    "- j is the square root of -1\n",
    "\n",
    "- Only python supports this datatypes\n",
    "\n",
    "- float dt - only e is allowed"
   ]
  },
  {
   "cell_type": "code",
   "execution_count": 1,
   "id": "b8f0cd6b-438a-43b0-8e5a-198d9cc2d344",
   "metadata": {},
   "outputs": [
    {
     "data": {
      "text/plain": [
       "(1+2j)"
      ]
     },
     "execution_count": 1,
     "metadata": {},
     "output_type": "execute_result"
    }
   ],
   "source": [
    "c = 1+2j\n",
    "c"
   ]
  },
  {
   "cell_type": "code",
   "execution_count": 2,
   "id": "96853075-dfa5-460d-84c8-4e1e18961847",
   "metadata": {},
   "outputs": [
    {
     "data": {
      "text/plain": [
       "1.0"
      ]
     },
     "execution_count": 2,
     "metadata": {},
     "output_type": "execute_result"
    }
   ],
   "source": [
    "c.real"
   ]
  },
  {
   "cell_type": "code",
   "execution_count": 3,
   "id": "c9e592f3-0e51-4a03-bc45-10eebe3354ea",
   "metadata": {},
   "outputs": [
    {
     "data": {
      "text/plain": [
       "2.0"
      ]
     },
     "execution_count": 3,
     "metadata": {},
     "output_type": "execute_result"
    }
   ],
   "source": [
    "c.imag"
   ]
  },
  {
   "cell_type": "code",
   "execution_count": 4,
   "id": "024da2c4-a875-405c-a50c-fa793bb24d60",
   "metadata": {},
   "outputs": [],
   "source": [
    "c = 10 + 20j\n",
    "d = 30 + 40j"
   ]
  },
  {
   "cell_type": "code",
   "execution_count": 5,
   "id": "4f000cdd-b5e5-4942-9b1d-aea981e02caa",
   "metadata": {},
   "outputs": [
    {
     "data": {
      "text/plain": [
       "(40+60j)"
      ]
     },
     "execution_count": 5,
     "metadata": {},
     "output_type": "execute_result"
    }
   ],
   "source": [
    "e= c+d\n",
    "e"
   ]
  },
  {
   "cell_type": "markdown",
   "id": "88a2f101-357d-4a2e-bdd4-f38608558a9c",
   "metadata": {},
   "source": [
    "**str datatype**"
   ]
  },
  {
   "cell_type": "code",
   "execution_count": 6,
   "id": "80ae830d-d31e-41d0-aeab-76b5e90d277f",
   "metadata": {},
   "outputs": [],
   "source": [
    "s = 'nareshit'"
   ]
  },
  {
   "cell_type": "code",
   "execution_count": 7,
   "id": "c8027cbe-4edd-42cc-99b3-2b4c227522d7",
   "metadata": {},
   "outputs": [
    {
     "data": {
      "text/plain": [
       "'n'"
      ]
     },
     "execution_count": 7,
     "metadata": {},
     "output_type": "execute_result"
    }
   ],
   "source": [
    "s[0]"
   ]
  },
  {
   "cell_type": "code",
   "execution_count": 8,
   "id": "5694bbe5-7f77-4b17-ac7e-78eaa3624cda",
   "metadata": {},
   "outputs": [
    {
     "data": {
      "text/plain": [
       "'a'"
      ]
     },
     "execution_count": 8,
     "metadata": {},
     "output_type": "execute_result"
    }
   ],
   "source": [
    "s[1]"
   ]
  },
  {
   "cell_type": "code",
   "execution_count": 9,
   "id": "a051ab44-f797-456b-a0c9-674c0f4aa614",
   "metadata": {},
   "outputs": [],
   "source": [
    "s1 = 'technology'\n",
    "s2 = 'under the guidance of Prakash Senapathi Sir'"
   ]
  },
  {
   "cell_type": "code",
   "execution_count": 19,
   "id": "c6fd9803-e2f3-44a9-a408-7de658ebd2ed",
   "metadata": {},
   "outputs": [
    {
     "data": {
      "text/plain": [
       "'technology under the guidance of Prakash Senapathi Sir'"
      ]
     },
     "execution_count": 19,
     "metadata": {},
     "output_type": "execute_result"
    }
   ],
   "source": [
    "s = s1+' '+s2   # concatenation\n",
    "s"
   ]
  },
  {
   "cell_type": "code",
   "execution_count": 15,
   "id": "3bff65a6-8c0f-4fe7-b2cd-1713e50ec00b",
   "metadata": {},
   "outputs": [
    {
     "data": {
      "text/plain": [
       "'under the guidance of Prakash Senapathi Sir'"
      ]
     },
     "execution_count": 15,
     "metadata": {},
     "output_type": "execute_result"
    }
   ],
   "source": [
    "s\n",
    "s1\n",
    "s2"
   ]
  },
  {
   "cell_type": "code",
   "execution_count": 16,
   "id": "7bd8ead2-5694-4f16-816a-60264849dc1b",
   "metadata": {},
   "outputs": [
    {
     "name": "stdout",
     "output_type": "stream",
     "text": [
      "technology under the guidance of Prakash Senapathi Sir\n",
      "technology\n",
      "under the guidance of Prakash Senapathi Sir\n"
     ]
    }
   ],
   "source": [
    "print(s)\n",
    "print(s1)\n",
    "print(s2)"
   ]
  },
  {
   "cell_type": "code",
   "execution_count": 17,
   "id": "270fdddc-acf5-4fb4-adcf-105551608e6b",
   "metadata": {},
   "outputs": [
    {
     "data": {
      "text/plain": [
       "'technologyunder the guidance of Prakash Senapathi Sir'"
      ]
     },
     "execution_count": 17,
     "metadata": {},
     "output_type": "execute_result"
    }
   ],
   "source": [
    "s1+s2"
   ]
  },
  {
   "cell_type": "code",
   "execution_count": 18,
   "id": "98cec898-673b-4a90-915c-17b56f2106b3",
   "metadata": {},
   "outputs": [
    {
     "ename": "TypeError",
     "evalue": "can't multiply sequence by non-int of type 'str'",
     "output_type": "error",
     "traceback": [
      "\u001b[1;31m---------------------------------------------------------------------------\u001b[0m",
      "\u001b[1;31mTypeError\u001b[0m                                 Traceback (most recent call last)",
      "Cell \u001b[1;32mIn[18], line 1\u001b[0m\n\u001b[1;32m----> 1\u001b[0m s1\u001b[38;5;241m*\u001b[39ms2\n",
      "\u001b[1;31mTypeError\u001b[0m: can't multiply sequence by non-int of type 'str'"
     ]
    }
   ],
   "source": [
    "s1*s2"
   ]
  },
  {
   "cell_type": "code",
   "execution_count": 20,
   "id": "78909880-a1d7-4263-b557-f905ca1538dc",
   "metadata": {},
   "outputs": [
    {
     "name": "stdout",
     "output_type": "stream",
     "text": [
      "10\n"
     ]
    }
   ],
   "source": [
    "print(10)"
   ]
  },
  {
   "cell_type": "code",
   "execution_count": 21,
   "id": "7a2bcfbe-6622-4ec5-889b-08a3db21907c",
   "metadata": {},
   "outputs": [
    {
     "name": "stdout",
     "output_type": "stream",
     "text": [
      "10 2.4 nit (1+2j)\n"
     ]
    }
   ],
   "source": [
    "print(10,2.4,'nit',(1+2j))"
   ]
  },
  {
   "cell_type": "code",
   "execution_count": 22,
   "id": "d28ef181-8f3b-4209-98cd-fd53654bddb9",
   "metadata": {},
   "outputs": [
    {
     "data": {
      "text/plain": [
       "50"
      ]
     },
     "execution_count": 22,
     "metadata": {},
     "output_type": "execute_result"
    }
   ],
   "source": [
    "n1 = 20\n",
    "n2 = 30\n",
    "add = n1+n2\n",
    "add"
   ]
  },
  {
   "cell_type": "markdown",
   "id": "7ba23a0d-ec7d-4305-a65e-712ac3c0b589",
   "metadata": {},
   "source": [
    "**print result with string**"
   ]
  },
  {
   "cell_type": "code",
   "execution_count": 25,
   "id": "d2ad1edd-f264-4ab6-8186-5c961f478bf0",
   "metadata": {},
   "outputs": [
    {
     "name": "stdout",
     "output_type": "stream",
     "text": [
      "Addition of 20 and 30 is: 50\n"
     ]
    }
   ],
   "source": [
    "print('Addition of',n1,'and',n2,'is:',add)"
   ]
  },
  {
   "cell_type": "code",
   "execution_count": 29,
   "id": "ba85d6ef-12d7-43e6-ac92-bede65c280fa",
   "metadata": {},
   "outputs": [
    {
     "name": "stdout",
     "output_type": "stream",
     "text": [
      "Addition of 20 and 30 is: 50\n",
      "Addition of 20 and 30 is: 50\n"
     ]
    }
   ],
   "source": [
    "print(f'Addition of {n1} and {n2} is: {add}')"
   ]
  },
  {
   "cell_type": "markdown",
   "id": "eb4e2b37-bfb8-4313-8238-1403c95f3d31",
   "metadata": {},
   "source": [
    "**print with format method**"
   ]
  },
  {
   "cell_type": "code",
   "execution_count": 32,
   "id": "9b8f4dec-3d2a-48e2-a924-e6a0cad564b2",
   "metadata": {},
   "outputs": [
    {
     "name": "stdout",
     "output_type": "stream",
     "text": [
      "Addition of 20 and 30 is: 50\n"
     ]
    }
   ],
   "source": [
    "print('Addition of {} and {} is: {}'.format(n1,n2,add))"
   ]
  },
  {
   "cell_type": "code",
   "execution_count": 33,
   "id": "42dfb9bd-a117-4f11-b5d7-0607786dc0a6",
   "metadata": {},
   "outputs": [
    {
     "data": {
      "text/plain": [
       "90"
      ]
     },
     "execution_count": 33,
     "metadata": {},
     "output_type": "execute_result"
    }
   ],
   "source": [
    "n1 = 20\n",
    "n2 = 30\n",
    "n3 = 40\n",
    "add = n1+n2+n3\n",
    "add"
   ]
  },
  {
   "cell_type": "code",
   "execution_count": 35,
   "id": "2c0b7acc-bce6-4a5b-8c7f-6d87d6cf847a",
   "metadata": {},
   "outputs": [
    {
     "ename": "IndexError",
     "evalue": "Replacement index 3 out of range for positional args tuple",
     "output_type": "error",
     "traceback": [
      "\u001b[1;31m---------------------------------------------------------------------------\u001b[0m",
      "\u001b[1;31mIndexError\u001b[0m                                Traceback (most recent call last)",
      "Cell \u001b[1;32mIn[35], line 1\u001b[0m\n\u001b[1;32m----> 1\u001b[0m \u001b[38;5;28mprint\u001b[39m(\u001b[38;5;124m'\u001b[39m\u001b[38;5;124mAddition of \u001b[39m\u001b[38;5;132;01m{}\u001b[39;00m\u001b[38;5;124m, \u001b[39m\u001b[38;5;132;01m{}\u001b[39;00m\u001b[38;5;124m and \u001b[39m\u001b[38;5;132;01m{}\u001b[39;00m\u001b[38;5;124m is: \u001b[39m\u001b[38;5;132;01m{}\u001b[39;00m\u001b[38;5;124m'\u001b[39m\u001b[38;5;241m.\u001b[39mformat(n1,n2,add))\n",
      "\u001b[1;31mIndexError\u001b[0m: Replacement index 3 out of range for positional args tuple"
     ]
    }
   ],
   "source": [
    "print('Addition of {}, {} and {} is: {}'.format(n1,n2,add))"
   ]
  },
  {
   "cell_type": "code",
   "execution_count": 36,
   "id": "d56c6ff8-3165-46df-8a72-ff46227fd4f8",
   "metadata": {},
   "outputs": [
    {
     "name": "stdout",
     "output_type": "stream",
     "text": [
      "Addition of 20, 30 and 40 is: 90\n"
     ]
    }
   ],
   "source": [
    "print('Addition of {}, {} and {} is: {}'.format(n1,n2,n3,add))"
   ]
  },
  {
   "cell_type": "code",
   "execution_count": 37,
   "id": "39ed9798-3fdc-4687-bc77-c6511d1151a0",
   "metadata": {},
   "outputs": [
    {
     "name": "stdout",
     "output_type": "stream",
     "text": [
      "Addition of 20 and 30 is: 90\n"
     ]
    }
   ],
   "source": [
    "print(f'Addition of {n1} and {n2} is: {add}') # always prefers"
   ]
  },
  {
   "cell_type": "markdown",
   "id": "ec3e82a8-a8fa-4a82-84c6-1cbf10d428e4",
   "metadata": {},
   "source": [
    "**end statement**"
   ]
  },
  {
   "cell_type": "code",
   "execution_count": 38,
   "id": "ae412b7d-df74-4413-aed7-de400bdd3b2a",
   "metadata": {},
   "outputs": [
    {
     "name": "stdout",
     "output_type": "stream",
     "text": [
      "hello\n",
      "good night\n"
     ]
    }
   ],
   "source": [
    "print('hello')\n",
    "print('good night')\n",
    "\n",
    "# Output -> hello good night (in singke line)"
   ]
  },
  {
   "cell_type": "code",
   "execution_count": 40,
   "id": "7463f89e-2fe4-46dc-8a95-9d97e8891484",
   "metadata": {},
   "outputs": [
    {
     "name": "stdout",
     "output_type": "stream",
     "text": [
      "hello good night\n"
     ]
    }
   ],
   "source": [
    "print('hello',end=' ')\n",
    "print('good night')"
   ]
  },
  {
   "cell_type": "markdown",
   "id": "675e34a5-00e4-46c0-85eb-8d677be253e2",
   "metadata": {},
   "source": [
    "**separator**"
   ]
  },
  {
   "cell_type": "code",
   "execution_count": 42,
   "id": "7a730412-de78-49f8-b812-b776c0ab80a4",
   "metadata": {},
   "outputs": [
    {
     "name": "stdout",
     "output_type": "stream",
     "text": [
      "hello hii how are you\n"
     ]
    }
   ],
   "source": [
    "print('hello','hii','how are you')"
   ]
  },
  {
   "cell_type": "code",
   "execution_count": 43,
   "id": "54447d64-7533-4078-ba2a-b0116e5f6a7e",
   "metadata": {},
   "outputs": [
    {
     "name": "stdout",
     "output_type": "stream",
     "text": [
      "hello--->hii--->how are you\n"
     ]
    }
   ],
   "source": [
    "print('hello','hii','how are you',sep='--->')"
   ]
  },
  {
   "cell_type": "code",
   "execution_count": 44,
   "id": "67e06fbd-e7c6-4d46-8023-99aae647fdee",
   "metadata": {},
   "outputs": [
    {
     "name": "stdout",
     "output_type": "stream",
     "text": [
      "hello***>hii***>how are you\n"
     ]
    }
   ],
   "source": [
    "print('hello','hii','how are you',sep='***>')"
   ]
  },
  {
   "cell_type": "code",
   "execution_count": 7,
   "id": "5d918692-964c-4f98-b465-b043e0801437",
   "metadata": {},
   "outputs": [
    {
     "name": "stdout",
     "output_type": "stream",
     "text": [
      "3 .\n"
     ]
    }
   ],
   "source": [
    "print(3,'.') # . is far from 3 so here we will use sep method"
   ]
  },
  {
   "cell_type": "code",
   "execution_count": 8,
   "id": "44b7d4f3-6a0f-4eb6-8afa-72b143448797",
   "metadata": {},
   "outputs": [
    {
     "name": "stdout",
     "output_type": "stream",
     "text": [
      "3.\n"
     ]
    }
   ],
   "source": [
    "print(3,'.',sep='') # see now space setteld(also use to remove space B/W words)"
   ]
  },
  {
   "cell_type": "code",
   "execution_count": 9,
   "id": "1b843c3f-840d-4a5b-8c59-bb6846cc62f3",
   "metadata": {},
   "outputs": [
    {
     "name": "stdout",
     "output_type": "stream",
     "text": [
      "1 2 3.\n"
     ]
    }
   ],
   "source": [
    "print(1,2,end=' ')\n",
    "print(3,'.',sep='') # will print 1 2 3."
   ]
  },
  {
   "cell_type": "code",
   "execution_count": null,
   "id": "bbaade16-3168-441c-b0a0-483abe3f6483",
   "metadata": {},
   "outputs": [],
   "source": []
  }
 ],
 "metadata": {
  "kernelspec": {
   "display_name": "Python 3 (ipykernel)",
   "language": "python",
   "name": "python3"
  },
  "language_info": {
   "codemirror_mode": {
    "name": "ipython",
    "version": 3
   },
   "file_extension": ".py",
   "mimetype": "text/x-python",
   "name": "python",
   "nbconvert_exporter": "python",
   "pygments_lexer": "ipython3",
   "version": "3.13.5"
  }
 },
 "nbformat": 4,
 "nbformat_minor": 5
}
