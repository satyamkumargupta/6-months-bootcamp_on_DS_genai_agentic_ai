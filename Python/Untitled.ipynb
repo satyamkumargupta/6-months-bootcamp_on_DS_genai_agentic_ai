{
 "cells": [
  {
   "cell_type": "code",
   "execution_count": 1,
   "id": "058aae54-1fec-4860-b33d-b55273b97827",
   "metadata": {},
   "outputs": [
    {
     "ename": "ModuleNotFoundError",
     "evalue": "No module named 'matoplotlib'",
     "output_type": "error",
     "traceback": [
      "\u001b[1;31m---------------------------------------------------------------------------\u001b[0m",
      "\u001b[1;31mModuleNotFoundError\u001b[0m                       Traceback (most recent call last)",
      "Cell \u001b[1;32mIn[1], line 1\u001b[0m\n\u001b[1;32m----> 1\u001b[0m \u001b[38;5;28;01mimport\u001b[39;00m\u001b[38;5;250m \u001b[39m\u001b[38;5;21;01mmatoplotlib\u001b[39;00m\n",
      "\u001b[1;31mModuleNotFoundError\u001b[0m: No module named 'matoplotlib'"
     ]
    }
   ],
   "source": [
    "import matoplotlib"
   ]
  },
  {
   "cell_type": "markdown",
   "id": "06e21c21-fdf1-4110-9415-92cc3d38d237",
   "metadata": {},
   "source": [
    "## 25th July"
   ]
  },
  {
   "cell_type": "code",
   "execution_count": 1,
   "id": "6fd0ba5e-40b6-42b7-8f70-6aedcfb199d2",
   "metadata": {},
   "outputs": [],
   "source": [
    "v=9"
   ]
  },
  {
   "cell_type": "code",
   "execution_count": 2,
   "id": "daaf1fa1-31de-4a94-8df0-d63737d7fd0b",
   "metadata": {},
   "outputs": [
    {
     "data": {
      "text/plain": [
       "9"
      ]
     },
     "execution_count": 2,
     "metadata": {},
     "output_type": "execute_result"
    }
   ],
   "source": [
    "v"
   ]
  },
  {
   "cell_type": "code",
   "execution_count": 3,
   "id": "23d2f642-050c-4762-8859-e44c4c2a25b9",
   "metadata": {},
   "outputs": [
    {
     "data": {
      "text/plain": [
       "140716546765992"
      ]
     },
     "execution_count": 3,
     "metadata": {},
     "output_type": "execute_result"
    }
   ],
   "source": [
    "id(v)"
   ]
  },
  {
   "cell_type": "code",
   "execution_count": 6,
   "id": "12cf09ab-6ba0-410d-8e9b-4d2e00a08524",
   "metadata": {},
   "outputs": [
    {
     "ename": "SyntaxError",
     "evalue": "cannot assign to literal here. Maybe you meant '==' instead of '='? (257603433.py, line 1)",
     "output_type": "error",
     "traceback": [
      "\u001b[1;36m  Cell \u001b[1;32mIn[6], line 1\u001b[1;36m\u001b[0m\n\u001b[1;33m    9 = v\u001b[0m\n\u001b[1;37m    ^\u001b[0m\n\u001b[1;31mSyntaxError\u001b[0m\u001b[1;31m:\u001b[0m cannot assign to literal here. Maybe you meant '==' instead of '='?\n"
     ]
    }
   ],
   "source": [
    "9 = v"
   ]
  },
  {
   "cell_type": "code",
   "execution_count": 7,
   "id": "f63c6a24-4682-49c0-bedc-50d5819a2275",
   "metadata": {},
   "outputs": [
    {
     "ename": "SyntaxError",
     "evalue": "invalid decimal literal (428774411.py, line 1)",
     "output_type": "error",
     "traceback": [
      "\u001b[1;36m  Cell \u001b[1;32mIn[7], line 1\u001b[1;36m\u001b[0m\n\u001b[1;33m    9v = 4\u001b[0m\n\u001b[1;37m    ^\u001b[0m\n\u001b[1;31mSyntaxError\u001b[0m\u001b[1;31m:\u001b[0m invalid decimal literal\n"
     ]
    }
   ],
   "source": [
    "9v = 4"
   ]
  },
  {
   "cell_type": "code",
   "execution_count": 8,
   "id": "9ca100e9-9f58-4b8f-89ec-638e482a5337",
   "metadata": {},
   "outputs": [],
   "source": [
    "v8 = 7"
   ]
  },
  {
   "cell_type": "markdown",
   "id": "dc6e4e16-af61-44bd-8ff6-d22e8e33dc31",
   "metadata": {},
   "source": [
    "- Variable rules:\n",
    "    - variable never start with number\n",
    "    - variables are case-sensitive\n",
    "    - special characters will not use on variable except _(underscore)\n",
    "    - keyword or reserved word , we can not define as varaible"
   ]
  },
  {
   "cell_type": "code",
   "execution_count": 9,
   "id": "6c0cafd6-344e-4bb8-9dac-891a19433e2c",
   "metadata": {},
   "outputs": [
    {
     "ename": "TypeError",
     "evalue": "cannot unpack non-iterable int object",
     "output_type": "error",
     "traceback": [
      "\u001b[1;31m---------------------------------------------------------------------------\u001b[0m",
      "\u001b[1;31mTypeError\u001b[0m                                 Traceback (most recent call last)",
      "Cell \u001b[1;32mIn[9], line 1\u001b[0m\n\u001b[1;32m----> 1\u001b[0m puspa1,pushpa2 \u001b[38;5;241m=\u001b[39m \u001b[38;5;241m1000\u001b[39m\n",
      "\u001b[1;31mTypeError\u001b[0m: cannot unpack non-iterable int object"
     ]
    }
   ],
   "source": [
    "puspa1,pushpa2 = 1000"
   ]
  },
  {
   "cell_type": "code",
   "execution_count": 16,
   "id": "357d4959-5417-40b9-972a-b851d6107085",
   "metadata": {},
   "outputs": [],
   "source": [
    "puspa1,puspa2 = 1000,2000"
   ]
  },
  {
   "cell_type": "code",
   "execution_count": 18,
   "id": "9d11272b-a64f-4879-b3c3-e9506a8b6501",
   "metadata": {},
   "outputs": [
    {
     "data": {
      "text/plain": [
       "2000"
      ]
     },
     "execution_count": 18,
     "metadata": {},
     "output_type": "execute_result"
    }
   ],
   "source": [
    "puspa1\n",
    "puspa2"
   ]
  },
  {
   "cell_type": "code",
   "execution_count": 19,
   "id": "c4000f9b-012f-4b29-9e5e-09d4ea10457c",
   "metadata": {},
   "outputs": [
    {
     "name": "stdout",
     "output_type": "stream",
     "text": [
      "1000\n",
      "2000\n"
     ]
    }
   ],
   "source": [
    "print(puspa1)\n",
    "print(puspa2)"
   ]
  },
  {
   "cell_type": "code",
   "execution_count": 20,
   "id": "e7ff9d90-7fa1-4efa-ab99-4e3c3d2e9ac0",
   "metadata": {},
   "outputs": [
    {
     "ename": "SyntaxError",
     "evalue": "invalid syntax (2854879159.py, line 1)",
     "output_type": "error",
     "traceback": [
      "\u001b[1;36m  Cell \u001b[1;32mIn[20], line 1\u001b[1;36m\u001b[0m\n\u001b[1;33m    nit$ = 10\u001b[0m\n\u001b[1;37m       ^\u001b[0m\n\u001b[1;31mSyntaxError\u001b[0m\u001b[1;31m:\u001b[0m invalid syntax\n"
     ]
    }
   ],
   "source": [
    "nit$ = 10"
   ]
  },
  {
   "cell_type": "code",
   "execution_count": 22,
   "id": "ca8db92b-7aae-4402-af30-2cec6538e244",
   "metadata": {},
   "outputs": [
    {
     "data": {
      "text/plain": [
       "10"
      ]
     },
     "execution_count": 22,
     "metadata": {},
     "output_type": "execute_result"
    }
   ],
   "source": [
    "nit_ = 10\n",
    "nit_"
   ]
  },
  {
   "cell_type": "code",
   "execution_count": 23,
   "id": "9b71c820-1f3b-4a07-968e-5ff1a8a7d1aa",
   "metadata": {},
   "outputs": [
    {
     "data": {
      "text/plain": [
       "['False',\n",
       " 'None',\n",
       " 'True',\n",
       " 'and',\n",
       " 'as',\n",
       " 'assert',\n",
       " 'async',\n",
       " 'await',\n",
       " 'break',\n",
       " 'class',\n",
       " 'continue',\n",
       " 'def',\n",
       " 'del',\n",
       " 'elif',\n",
       " 'else',\n",
       " 'except',\n",
       " 'finally',\n",
       " 'for',\n",
       " 'from',\n",
       " 'global',\n",
       " 'if',\n",
       " 'import',\n",
       " 'in',\n",
       " 'is',\n",
       " 'lambda',\n",
       " 'nonlocal',\n",
       " 'not',\n",
       " 'or',\n",
       " 'pass',\n",
       " 'raise',\n",
       " 'return',\n",
       " 'try',\n",
       " 'while',\n",
       " 'with',\n",
       " 'yield']"
      ]
     },
     "execution_count": 23,
     "metadata": {},
     "output_type": "execute_result"
    }
   ],
   "source": [
    "import keyword\n",
    "keyword.kwlist"
   ]
  },
  {
   "cell_type": "code",
   "execution_count": 24,
   "id": "d2d81086-48a2-43c3-bff8-9d10de41a3c4",
   "metadata": {},
   "outputs": [
    {
     "data": {
      "text/plain": [
       "35"
      ]
     },
     "execution_count": 24,
     "metadata": {},
     "output_type": "execute_result"
    }
   ],
   "source": [
    "len(keyword.kwlist)"
   ]
  },
  {
   "cell_type": "code",
   "execution_count": 25,
   "id": "3b0fe6d7-fcc7-4bca-afe3-67fd5c0a1b22",
   "metadata": {},
   "outputs": [
    {
     "ename": "SyntaxError",
     "evalue": "invalid syntax (1120026181.py, line 1)",
     "output_type": "error",
     "traceback": [
      "\u001b[1;36m  Cell \u001b[1;32mIn[25], line 1\u001b[1;36m\u001b[0m\n\u001b[1;33m    return = 10\u001b[0m\n\u001b[1;37m           ^\u001b[0m\n\u001b[1;31mSyntaxError\u001b[0m\u001b[1;31m:\u001b[0m invalid syntax\n"
     ]
    }
   ],
   "source": [
    "return = 10"
   ]
  },
  {
   "cell_type": "code",
   "execution_count": 26,
   "id": "02b11d85-52f8-4629-82b1-0e0afdc58d38",
   "metadata": {},
   "outputs": [
    {
     "data": {
      "text/plain": [
       "'3.13.5 | packaged by Anaconda, Inc. | (main, Jun 12 2025, 16:37:03) [MSC v.1929 64 bit (AMD64)]'"
      ]
     },
     "execution_count": 26,
     "metadata": {},
     "output_type": "execute_result"
    }
   ],
   "source": [
    "import sys\n",
    "sys.version"
   ]
  },
  {
   "cell_type": "code",
   "execution_count": null,
   "id": "c68e3603-b9a6-40ff-9389-5ff61fd72ffe",
   "metadata": {},
   "outputs": [],
   "source": []
  }
 ],
 "metadata": {
  "kernelspec": {
   "display_name": "Python 3 (ipykernel)",
   "language": "python",
   "name": "python3"
  },
  "language_info": {
   "codemirror_mode": {
    "name": "ipython",
    "version": 3
   },
   "file_extension": ".py",
   "mimetype": "text/x-python",
   "name": "python",
   "nbconvert_exporter": "python",
   "pygments_lexer": "ipython3",
   "version": "3.13.5"
  }
 },
 "nbformat": 4,
 "nbformat_minor": 5
}
